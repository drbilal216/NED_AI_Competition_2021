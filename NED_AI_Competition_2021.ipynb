{
  "nbformat": 4,
  "nbformat_minor": 0,
  "metadata": {
    "colab": {
      "name": "NED-AI-Competition-2021.ipynb",
      "provenance": [],
      "collapsed_sections": [],
      "authorship_tag": "ABX9TyNJUoK+7VDKy27cZowcxudS",
      "include_colab_link": true
    },
    "kernelspec": {
      "name": "python3",
      "display_name": "Python 3"
    },
    "language_info": {
      "name": "python"
    },
    "accelerator": "GPU",
    "gpuClass": "standard"
  },
  "cells": [
    {
      "cell_type": "markdown",
      "metadata": {
        "id": "view-in-github",
        "colab_type": "text"
      },
      "source": [
        "<a href=\"https://colab.research.google.com/github/drbilal216/NED_AI_Competition_2021/blob/main/NED_AI_Competition_2021.ipynb\" target=\"_parent\"><img src=\"https://colab.research.google.com/assets/colab-badge.svg\" alt=\"Open In Colab\"/></a>"
      ]
    },
    {
      "cell_type": "markdown",
      "source": [
        "NED AI Competition 2021\n",
        "\n",
        "Bilal Muhammad Khan\n",
        "\n",
        "drbilal216@gmail.com"
      ],
      "metadata": {
        "id": "1JCmt6Tg_JNX"
      }
    },
    {
      "cell_type": "markdown",
      "source": [
        "\n",
        "### download csv file from link\n",
        "url = 'https://drive.google.com/file/d/1dNa74t9Yu7lzTqCm1R6jeL04A0-mxvz0/view?usp=sharing'"
      ],
      "metadata": {
        "id": "z15B1eHj2ZDA"
      }
    },
    {
      "cell_type": "code",
      "execution_count": 1,
      "metadata": {
        "colab": {
          "base_uri": "https://localhost:8080/"
        },
        "id": "3XAUbJ8iaxD9",
        "outputId": "e5053c69-fc67-475f-bb05-98198d3a32f1"
      },
      "outputs": [
        {
          "output_type": "stream",
          "name": "stdout",
          "text": [
            "Drive already mounted at /content/drive; to attempt to forcibly remount, call drive.mount(\"/content/drive\", force_remount=True).\n"
          ]
        }
      ],
      "source": [
        "from google.colab import drive\n",
        "drive.mount(\"/content/drive\")"
      ]
    },
    {
      "cell_type": "code",
      "source": [
        "import pandas as pd\n",
        "p = \"/content/drive/MyDrive/ML and AI/NED-AI-Competition-2021/data.csv\" # File location can vary\n",
        "df = pd.read_csv(p)\n",
        "display(df.head(3))"
      ],
      "metadata": {
        "colab": {
          "base_uri": "https://localhost:8080/",
          "height": 341
        },
        "id": "UkM6wJ0yf6oi",
        "outputId": "da954226-c583-46b4-a6d4-67fe335a8a37"
      },
      "execution_count": 2,
      "outputs": [
        {
          "output_type": "stream",
          "name": "stderr",
          "text": [
            "/usr/local/lib/python3.7/dist-packages/IPython/core/interactiveshell.py:3326: DtypeWarning: Columns (20) have mixed types.Specify dtype option on import or set low_memory=False.\n",
            "  exec(code_obj, self.user_global_ns, self.user_ns)\n"
          ]
        },
        {
          "output_type": "display_data",
          "data": {
            "text/plain": [
              "   Unnamed: 0       id  member_id  loan_amnt  funded_amnt  funded_amnt_inv  \\\n",
              "0           0  1077501    1296599       5000         5000           4975.0   \n",
              "1           1  1077430    1314167       2500         2500           2500.0   \n",
              "2           2  1077175    1313524       2400         2400           2400.0   \n",
              "\n",
              "         term  int_rate  installment grade  ... total_bal_il il_util  \\\n",
              "0   36 months     10.65       162.87     B  ...          NaN     NaN   \n",
              "1   60 months     15.27        59.83     C  ...          NaN     NaN   \n",
              "2   36 months     15.96        84.33     C  ...          NaN     NaN   \n",
              "\n",
              "  open_rv_12m open_rv_24m  max_bal_bc all_util total_rev_hi_lim inq_fi  \\\n",
              "0         NaN         NaN         NaN      NaN              NaN    NaN   \n",
              "1         NaN         NaN         NaN      NaN              NaN    NaN   \n",
              "2         NaN         NaN         NaN      NaN              NaN    NaN   \n",
              "\n",
              "  total_cu_tl inq_last_12m  \n",
              "0         NaN          NaN  \n",
              "1         NaN          NaN  \n",
              "2         NaN          NaN  \n",
              "\n",
              "[3 rows x 75 columns]"
            ],
            "text/html": [
              "\n",
              "  <div id=\"df-af0d4f92-3db1-4aff-abc1-e02de49a84b6\">\n",
              "    <div class=\"colab-df-container\">\n",
              "      <div>\n",
              "<style scoped>\n",
              "    .dataframe tbody tr th:only-of-type {\n",
              "        vertical-align: middle;\n",
              "    }\n",
              "\n",
              "    .dataframe tbody tr th {\n",
              "        vertical-align: top;\n",
              "    }\n",
              "\n",
              "    .dataframe thead th {\n",
              "        text-align: right;\n",
              "    }\n",
              "</style>\n",
              "<table border=\"1\" class=\"dataframe\">\n",
              "  <thead>\n",
              "    <tr style=\"text-align: right;\">\n",
              "      <th></th>\n",
              "      <th>Unnamed: 0</th>\n",
              "      <th>id</th>\n",
              "      <th>member_id</th>\n",
              "      <th>loan_amnt</th>\n",
              "      <th>funded_amnt</th>\n",
              "      <th>funded_amnt_inv</th>\n",
              "      <th>term</th>\n",
              "      <th>int_rate</th>\n",
              "      <th>installment</th>\n",
              "      <th>grade</th>\n",
              "      <th>...</th>\n",
              "      <th>total_bal_il</th>\n",
              "      <th>il_util</th>\n",
              "      <th>open_rv_12m</th>\n",
              "      <th>open_rv_24m</th>\n",
              "      <th>max_bal_bc</th>\n",
              "      <th>all_util</th>\n",
              "      <th>total_rev_hi_lim</th>\n",
              "      <th>inq_fi</th>\n",
              "      <th>total_cu_tl</th>\n",
              "      <th>inq_last_12m</th>\n",
              "    </tr>\n",
              "  </thead>\n",
              "  <tbody>\n",
              "    <tr>\n",
              "      <th>0</th>\n",
              "      <td>0</td>\n",
              "      <td>1077501</td>\n",
              "      <td>1296599</td>\n",
              "      <td>5000</td>\n",
              "      <td>5000</td>\n",
              "      <td>4975.0</td>\n",
              "      <td>36 months</td>\n",
              "      <td>10.65</td>\n",
              "      <td>162.87</td>\n",
              "      <td>B</td>\n",
              "      <td>...</td>\n",
              "      <td>NaN</td>\n",
              "      <td>NaN</td>\n",
              "      <td>NaN</td>\n",
              "      <td>NaN</td>\n",
              "      <td>NaN</td>\n",
              "      <td>NaN</td>\n",
              "      <td>NaN</td>\n",
              "      <td>NaN</td>\n",
              "      <td>NaN</td>\n",
              "      <td>NaN</td>\n",
              "    </tr>\n",
              "    <tr>\n",
              "      <th>1</th>\n",
              "      <td>1</td>\n",
              "      <td>1077430</td>\n",
              "      <td>1314167</td>\n",
              "      <td>2500</td>\n",
              "      <td>2500</td>\n",
              "      <td>2500.0</td>\n",
              "      <td>60 months</td>\n",
              "      <td>15.27</td>\n",
              "      <td>59.83</td>\n",
              "      <td>C</td>\n",
              "      <td>...</td>\n",
              "      <td>NaN</td>\n",
              "      <td>NaN</td>\n",
              "      <td>NaN</td>\n",
              "      <td>NaN</td>\n",
              "      <td>NaN</td>\n",
              "      <td>NaN</td>\n",
              "      <td>NaN</td>\n",
              "      <td>NaN</td>\n",
              "      <td>NaN</td>\n",
              "      <td>NaN</td>\n",
              "    </tr>\n",
              "    <tr>\n",
              "      <th>2</th>\n",
              "      <td>2</td>\n",
              "      <td>1077175</td>\n",
              "      <td>1313524</td>\n",
              "      <td>2400</td>\n",
              "      <td>2400</td>\n",
              "      <td>2400.0</td>\n",
              "      <td>36 months</td>\n",
              "      <td>15.96</td>\n",
              "      <td>84.33</td>\n",
              "      <td>C</td>\n",
              "      <td>...</td>\n",
              "      <td>NaN</td>\n",
              "      <td>NaN</td>\n",
              "      <td>NaN</td>\n",
              "      <td>NaN</td>\n",
              "      <td>NaN</td>\n",
              "      <td>NaN</td>\n",
              "      <td>NaN</td>\n",
              "      <td>NaN</td>\n",
              "      <td>NaN</td>\n",
              "      <td>NaN</td>\n",
              "    </tr>\n",
              "  </tbody>\n",
              "</table>\n",
              "<p>3 rows × 75 columns</p>\n",
              "</div>\n",
              "      <button class=\"colab-df-convert\" onclick=\"convertToInteractive('df-af0d4f92-3db1-4aff-abc1-e02de49a84b6')\"\n",
              "              title=\"Convert this dataframe to an interactive table.\"\n",
              "              style=\"display:none;\">\n",
              "        \n",
              "  <svg xmlns=\"http://www.w3.org/2000/svg\" height=\"24px\"viewBox=\"0 0 24 24\"\n",
              "       width=\"24px\">\n",
              "    <path d=\"M0 0h24v24H0V0z\" fill=\"none\"/>\n",
              "    <path d=\"M18.56 5.44l.94 2.06.94-2.06 2.06-.94-2.06-.94-.94-2.06-.94 2.06-2.06.94zm-11 1L8.5 8.5l.94-2.06 2.06-.94-2.06-.94L8.5 2.5l-.94 2.06-2.06.94zm10 10l.94 2.06.94-2.06 2.06-.94-2.06-.94-.94-2.06-.94 2.06-2.06.94z\"/><path d=\"M17.41 7.96l-1.37-1.37c-.4-.4-.92-.59-1.43-.59-.52 0-1.04.2-1.43.59L10.3 9.45l-7.72 7.72c-.78.78-.78 2.05 0 2.83L4 21.41c.39.39.9.59 1.41.59.51 0 1.02-.2 1.41-.59l7.78-7.78 2.81-2.81c.8-.78.8-2.07 0-2.86zM5.41 20L4 18.59l7.72-7.72 1.47 1.35L5.41 20z\"/>\n",
              "  </svg>\n",
              "      </button>\n",
              "      \n",
              "  <style>\n",
              "    .colab-df-container {\n",
              "      display:flex;\n",
              "      flex-wrap:wrap;\n",
              "      gap: 12px;\n",
              "    }\n",
              "\n",
              "    .colab-df-convert {\n",
              "      background-color: #E8F0FE;\n",
              "      border: none;\n",
              "      border-radius: 50%;\n",
              "      cursor: pointer;\n",
              "      display: none;\n",
              "      fill: #1967D2;\n",
              "      height: 32px;\n",
              "      padding: 0 0 0 0;\n",
              "      width: 32px;\n",
              "    }\n",
              "\n",
              "    .colab-df-convert:hover {\n",
              "      background-color: #E2EBFA;\n",
              "      box-shadow: 0px 1px 2px rgba(60, 64, 67, 0.3), 0px 1px 3px 1px rgba(60, 64, 67, 0.15);\n",
              "      fill: #174EA6;\n",
              "    }\n",
              "\n",
              "    [theme=dark] .colab-df-convert {\n",
              "      background-color: #3B4455;\n",
              "      fill: #D2E3FC;\n",
              "    }\n",
              "\n",
              "    [theme=dark] .colab-df-convert:hover {\n",
              "      background-color: #434B5C;\n",
              "      box-shadow: 0px 1px 3px 1px rgba(0, 0, 0, 0.15);\n",
              "      filter: drop-shadow(0px 1px 2px rgba(0, 0, 0, 0.3));\n",
              "      fill: #FFFFFF;\n",
              "    }\n",
              "  </style>\n",
              "\n",
              "      <script>\n",
              "        const buttonEl =\n",
              "          document.querySelector('#df-af0d4f92-3db1-4aff-abc1-e02de49a84b6 button.colab-df-convert');\n",
              "        buttonEl.style.display =\n",
              "          google.colab.kernel.accessAllowed ? 'block' : 'none';\n",
              "\n",
              "        async function convertToInteractive(key) {\n",
              "          const element = document.querySelector('#df-af0d4f92-3db1-4aff-abc1-e02de49a84b6');\n",
              "          const dataTable =\n",
              "            await google.colab.kernel.invokeFunction('convertToInteractive',\n",
              "                                                     [key], {});\n",
              "          if (!dataTable) return;\n",
              "\n",
              "          const docLinkHtml = 'Like what you see? Visit the ' +\n",
              "            '<a target=\"_blank\" href=https://colab.research.google.com/notebooks/data_table.ipynb>data table notebook</a>'\n",
              "            + ' to learn more about interactive tables.';\n",
              "          element.innerHTML = '';\n",
              "          dataTable['output_type'] = 'display_data';\n",
              "          await google.colab.output.renderOutput(dataTable, element);\n",
              "          const docLink = document.createElement('div');\n",
              "          docLink.innerHTML = docLinkHtml;\n",
              "          element.appendChild(docLink);\n",
              "        }\n",
              "      </script>\n",
              "    </div>\n",
              "  </div>\n",
              "  "
            ]
          },
          "metadata": {}
        }
      ]
    },
    {
      "cell_type": "code",
      "source": [
        "print(len(df))\n",
        "print(len(df.columns))\n",
        "print()\n",
        "\n",
        "df = df.fillna(0)\n",
        "df = df.dropna(axis='rows')\n",
        "\n",
        "print(len(df))\n",
        "print(len(df.columns))\n",
        "print()\n",
        "display(df.head(3))"
      ],
      "metadata": {
        "colab": {
          "base_uri": "https://localhost:8080/",
          "height": 412
        },
        "id": "yHbg64z3tpuI",
        "outputId": "f9d7fa9c-325d-4b27-bb44-96ebcacfcfc3"
      },
      "execution_count": 3,
      "outputs": [
        {
          "output_type": "stream",
          "name": "stdout",
          "text": [
            "466285\n",
            "75\n",
            "\n",
            "466285\n",
            "75\n",
            "\n"
          ]
        },
        {
          "output_type": "display_data",
          "data": {
            "text/plain": [
              "   Unnamed: 0       id  member_id  loan_amnt  funded_amnt  funded_amnt_inv  \\\n",
              "0           0  1077501    1296599       5000         5000           4975.0   \n",
              "1           1  1077430    1314167       2500         2500           2500.0   \n",
              "2           2  1077175    1313524       2400         2400           2400.0   \n",
              "\n",
              "         term  int_rate  installment grade  ... total_bal_il il_util  \\\n",
              "0   36 months     10.65       162.87     B  ...          0.0     0.0   \n",
              "1   60 months     15.27        59.83     C  ...          0.0     0.0   \n",
              "2   36 months     15.96        84.33     C  ...          0.0     0.0   \n",
              "\n",
              "  open_rv_12m open_rv_24m  max_bal_bc all_util total_rev_hi_lim inq_fi  \\\n",
              "0         0.0         0.0         0.0      0.0              0.0    0.0   \n",
              "1         0.0         0.0         0.0      0.0              0.0    0.0   \n",
              "2         0.0         0.0         0.0      0.0              0.0    0.0   \n",
              "\n",
              "  total_cu_tl inq_last_12m  \n",
              "0         0.0          0.0  \n",
              "1         0.0          0.0  \n",
              "2         0.0          0.0  \n",
              "\n",
              "[3 rows x 75 columns]"
            ],
            "text/html": [
              "\n",
              "  <div id=\"df-d92541bc-7771-4bc5-9c00-2babf6de107d\">\n",
              "    <div class=\"colab-df-container\">\n",
              "      <div>\n",
              "<style scoped>\n",
              "    .dataframe tbody tr th:only-of-type {\n",
              "        vertical-align: middle;\n",
              "    }\n",
              "\n",
              "    .dataframe tbody tr th {\n",
              "        vertical-align: top;\n",
              "    }\n",
              "\n",
              "    .dataframe thead th {\n",
              "        text-align: right;\n",
              "    }\n",
              "</style>\n",
              "<table border=\"1\" class=\"dataframe\">\n",
              "  <thead>\n",
              "    <tr style=\"text-align: right;\">\n",
              "      <th></th>\n",
              "      <th>Unnamed: 0</th>\n",
              "      <th>id</th>\n",
              "      <th>member_id</th>\n",
              "      <th>loan_amnt</th>\n",
              "      <th>funded_amnt</th>\n",
              "      <th>funded_amnt_inv</th>\n",
              "      <th>term</th>\n",
              "      <th>int_rate</th>\n",
              "      <th>installment</th>\n",
              "      <th>grade</th>\n",
              "      <th>...</th>\n",
              "      <th>total_bal_il</th>\n",
              "      <th>il_util</th>\n",
              "      <th>open_rv_12m</th>\n",
              "      <th>open_rv_24m</th>\n",
              "      <th>max_bal_bc</th>\n",
              "      <th>all_util</th>\n",
              "      <th>total_rev_hi_lim</th>\n",
              "      <th>inq_fi</th>\n",
              "      <th>total_cu_tl</th>\n",
              "      <th>inq_last_12m</th>\n",
              "    </tr>\n",
              "  </thead>\n",
              "  <tbody>\n",
              "    <tr>\n",
              "      <th>0</th>\n",
              "      <td>0</td>\n",
              "      <td>1077501</td>\n",
              "      <td>1296599</td>\n",
              "      <td>5000</td>\n",
              "      <td>5000</td>\n",
              "      <td>4975.0</td>\n",
              "      <td>36 months</td>\n",
              "      <td>10.65</td>\n",
              "      <td>162.87</td>\n",
              "      <td>B</td>\n",
              "      <td>...</td>\n",
              "      <td>0.0</td>\n",
              "      <td>0.0</td>\n",
              "      <td>0.0</td>\n",
              "      <td>0.0</td>\n",
              "      <td>0.0</td>\n",
              "      <td>0.0</td>\n",
              "      <td>0.0</td>\n",
              "      <td>0.0</td>\n",
              "      <td>0.0</td>\n",
              "      <td>0.0</td>\n",
              "    </tr>\n",
              "    <tr>\n",
              "      <th>1</th>\n",
              "      <td>1</td>\n",
              "      <td>1077430</td>\n",
              "      <td>1314167</td>\n",
              "      <td>2500</td>\n",
              "      <td>2500</td>\n",
              "      <td>2500.0</td>\n",
              "      <td>60 months</td>\n",
              "      <td>15.27</td>\n",
              "      <td>59.83</td>\n",
              "      <td>C</td>\n",
              "      <td>...</td>\n",
              "      <td>0.0</td>\n",
              "      <td>0.0</td>\n",
              "      <td>0.0</td>\n",
              "      <td>0.0</td>\n",
              "      <td>0.0</td>\n",
              "      <td>0.0</td>\n",
              "      <td>0.0</td>\n",
              "      <td>0.0</td>\n",
              "      <td>0.0</td>\n",
              "      <td>0.0</td>\n",
              "    </tr>\n",
              "    <tr>\n",
              "      <th>2</th>\n",
              "      <td>2</td>\n",
              "      <td>1077175</td>\n",
              "      <td>1313524</td>\n",
              "      <td>2400</td>\n",
              "      <td>2400</td>\n",
              "      <td>2400.0</td>\n",
              "      <td>36 months</td>\n",
              "      <td>15.96</td>\n",
              "      <td>84.33</td>\n",
              "      <td>C</td>\n",
              "      <td>...</td>\n",
              "      <td>0.0</td>\n",
              "      <td>0.0</td>\n",
              "      <td>0.0</td>\n",
              "      <td>0.0</td>\n",
              "      <td>0.0</td>\n",
              "      <td>0.0</td>\n",
              "      <td>0.0</td>\n",
              "      <td>0.0</td>\n",
              "      <td>0.0</td>\n",
              "      <td>0.0</td>\n",
              "    </tr>\n",
              "  </tbody>\n",
              "</table>\n",
              "<p>3 rows × 75 columns</p>\n",
              "</div>\n",
              "      <button class=\"colab-df-convert\" onclick=\"convertToInteractive('df-d92541bc-7771-4bc5-9c00-2babf6de107d')\"\n",
              "              title=\"Convert this dataframe to an interactive table.\"\n",
              "              style=\"display:none;\">\n",
              "        \n",
              "  <svg xmlns=\"http://www.w3.org/2000/svg\" height=\"24px\"viewBox=\"0 0 24 24\"\n",
              "       width=\"24px\">\n",
              "    <path d=\"M0 0h24v24H0V0z\" fill=\"none\"/>\n",
              "    <path d=\"M18.56 5.44l.94 2.06.94-2.06 2.06-.94-2.06-.94-.94-2.06-.94 2.06-2.06.94zm-11 1L8.5 8.5l.94-2.06 2.06-.94-2.06-.94L8.5 2.5l-.94 2.06-2.06.94zm10 10l.94 2.06.94-2.06 2.06-.94-2.06-.94-.94-2.06-.94 2.06-2.06.94z\"/><path d=\"M17.41 7.96l-1.37-1.37c-.4-.4-.92-.59-1.43-.59-.52 0-1.04.2-1.43.59L10.3 9.45l-7.72 7.72c-.78.78-.78 2.05 0 2.83L4 21.41c.39.39.9.59 1.41.59.51 0 1.02-.2 1.41-.59l7.78-7.78 2.81-2.81c.8-.78.8-2.07 0-2.86zM5.41 20L4 18.59l7.72-7.72 1.47 1.35L5.41 20z\"/>\n",
              "  </svg>\n",
              "      </button>\n",
              "      \n",
              "  <style>\n",
              "    .colab-df-container {\n",
              "      display:flex;\n",
              "      flex-wrap:wrap;\n",
              "      gap: 12px;\n",
              "    }\n",
              "\n",
              "    .colab-df-convert {\n",
              "      background-color: #E8F0FE;\n",
              "      border: none;\n",
              "      border-radius: 50%;\n",
              "      cursor: pointer;\n",
              "      display: none;\n",
              "      fill: #1967D2;\n",
              "      height: 32px;\n",
              "      padding: 0 0 0 0;\n",
              "      width: 32px;\n",
              "    }\n",
              "\n",
              "    .colab-df-convert:hover {\n",
              "      background-color: #E2EBFA;\n",
              "      box-shadow: 0px 1px 2px rgba(60, 64, 67, 0.3), 0px 1px 3px 1px rgba(60, 64, 67, 0.15);\n",
              "      fill: #174EA6;\n",
              "    }\n",
              "\n",
              "    [theme=dark] .colab-df-convert {\n",
              "      background-color: #3B4455;\n",
              "      fill: #D2E3FC;\n",
              "    }\n",
              "\n",
              "    [theme=dark] .colab-df-convert:hover {\n",
              "      background-color: #434B5C;\n",
              "      box-shadow: 0px 1px 3px 1px rgba(0, 0, 0, 0.15);\n",
              "      filter: drop-shadow(0px 1px 2px rgba(0, 0, 0, 0.3));\n",
              "      fill: #FFFFFF;\n",
              "    }\n",
              "  </style>\n",
              "\n",
              "      <script>\n",
              "        const buttonEl =\n",
              "          document.querySelector('#df-d92541bc-7771-4bc5-9c00-2babf6de107d button.colab-df-convert');\n",
              "        buttonEl.style.display =\n",
              "          google.colab.kernel.accessAllowed ? 'block' : 'none';\n",
              "\n",
              "        async function convertToInteractive(key) {\n",
              "          const element = document.querySelector('#df-d92541bc-7771-4bc5-9c00-2babf6de107d');\n",
              "          const dataTable =\n",
              "            await google.colab.kernel.invokeFunction('convertToInteractive',\n",
              "                                                     [key], {});\n",
              "          if (!dataTable) return;\n",
              "\n",
              "          const docLinkHtml = 'Like what you see? Visit the ' +\n",
              "            '<a target=\"_blank\" href=https://colab.research.google.com/notebooks/data_table.ipynb>data table notebook</a>'\n",
              "            + ' to learn more about interactive tables.';\n",
              "          element.innerHTML = '';\n",
              "          dataTable['output_type'] = 'display_data';\n",
              "          await google.colab.output.renderOutput(dataTable, element);\n",
              "          const docLink = document.createElement('div');\n",
              "          docLink.innerHTML = docLinkHtml;\n",
              "          element.appendChild(docLink);\n",
              "        }\n",
              "      </script>\n",
              "    </div>\n",
              "  </div>\n",
              "  "
            ]
          },
          "metadata": {}
        }
      ]
    },
    {
      "cell_type": "code",
      "source": [
        "df.columns"
      ],
      "metadata": {
        "colab": {
          "base_uri": "https://localhost:8080/"
        },
        "id": "cq3livyozrzs",
        "outputId": "2773a108-e034-4bed-cf35-bd1275a569b7"
      },
      "execution_count": 4,
      "outputs": [
        {
          "output_type": "execute_result",
          "data": {
            "text/plain": [
              "Index(['Unnamed: 0', 'id', 'member_id', 'loan_amnt', 'funded_amnt',\n",
              "       'funded_amnt_inv', 'term', 'int_rate', 'installment', 'grade',\n",
              "       'sub_grade', 'emp_title', 'emp_length', 'home_ownership', 'annual_inc',\n",
              "       'verification_status', 'issue_d', 'loan_status', 'pymnt_plan', 'url',\n",
              "       'desc', 'purpose', 'title', 'zip_code', 'addr_state', 'dti',\n",
              "       'delinq_2yrs', 'earliest_cr_line', 'inq_last_6mths',\n",
              "       'mths_since_last_delinq', 'mths_since_last_record', 'open_acc',\n",
              "       'pub_rec', 'revol_bal', 'revol_util', 'total_acc',\n",
              "       'initial_list_status', 'out_prncp', 'out_prncp_inv', 'total_pymnt',\n",
              "       'total_pymnt_inv', 'total_rec_prncp', 'total_rec_int',\n",
              "       'total_rec_late_fee', 'recoveries', 'collection_recovery_fee',\n",
              "       'last_pymnt_d', 'last_pymnt_amnt', 'next_pymnt_d', 'last_credit_pull_d',\n",
              "       'collections_12_mths_ex_med', 'mths_since_last_major_derog',\n",
              "       'policy_code', 'application_type', 'annual_inc_joint', 'dti_joint',\n",
              "       'verification_status_joint', 'acc_now_delinq', 'tot_coll_amt',\n",
              "       'tot_cur_bal', 'open_acc_6m', 'open_il_6m', 'open_il_12m',\n",
              "       'open_il_24m', 'mths_since_rcnt_il', 'total_bal_il', 'il_util',\n",
              "       'open_rv_12m', 'open_rv_24m', 'max_bal_bc', 'all_util',\n",
              "       'total_rev_hi_lim', 'inq_fi', 'total_cu_tl', 'inq_last_12m'],\n",
              "      dtype='object')"
            ]
          },
          "metadata": {},
          "execution_count": 4
        }
      ]
    },
    {
      "cell_type": "code",
      "source": [
        "df[\"loan_status\"].value_counts()"
      ],
      "metadata": {
        "colab": {
          "base_uri": "https://localhost:8080/"
        },
        "id": "9nmOFDeFzr2j",
        "outputId": "1dc45387-ca02-4528-cc88-f6b8dea91689"
      },
      "execution_count": 5,
      "outputs": [
        {
          "output_type": "execute_result",
          "data": {
            "text/plain": [
              "Current                                                224226\n",
              "Fully Paid                                             184739\n",
              "Charged Off                                             42475\n",
              "Late (31-120 days)                                       6900\n",
              "In Grace Period                                          3146\n",
              "Does not meet the credit policy. Status:Fully Paid       1988\n",
              "Late (16-30 days)                                        1218\n",
              "Default                                                   832\n",
              "Does not meet the credit policy. Status:Charged Off       761\n",
              "Name: loan_status, dtype: int64"
            ]
          },
          "metadata": {},
          "execution_count": 5
        }
      ]
    },
    {
      "cell_type": "code",
      "source": [
        "default = [\"Default\",\"Charged Off\",\"Late (31-120 days\",\"Late (16-30 days)\",\"Late (31-120 days)\",\"Does not meet the credit policy. Status:Charged Off\"]\n",
        "un_default = [\"Current\", \"Fully Paid\" ,\"In Grace Period\",\"Does not meet the credit policy. Status:Fully Paid\"]"
      ],
      "metadata": {
        "id": "r9Drm4Vszr8P"
      },
      "execution_count": 6,
      "outputs": []
    },
    {
      "cell_type": "code",
      "source": [
        "df[\"loan_status\"] = df[\"loan_status\"].replace(default, '0')\n",
        "df[\"loan_status\"] = df[\"loan_status\"].replace(un_default, '1')"
      ],
      "metadata": {
        "id": "G48wSY73zr-2"
      },
      "execution_count": 7,
      "outputs": []
    },
    {
      "cell_type": "code",
      "source": [
        "df[\"loan_status\"].value_counts()  # Labels # but still imbalance"
      ],
      "metadata": {
        "colab": {
          "base_uri": "https://localhost:8080/"
        },
        "id": "hADWowwL0vJB",
        "outputId": "9c26d40b-ad5e-40ff-dd55-71a21962948f"
      },
      "execution_count": 8,
      "outputs": [
        {
          "output_type": "execute_result",
          "data": {
            "text/plain": [
              "1    414099\n",
              "0     52186\n",
              "Name: loan_status, dtype: int64"
            ]
          },
          "metadata": {},
          "execution_count": 8
        }
      ]
    },
    {
      "cell_type": "code",
      "source": [
        "columns = df.columns\n",
        "for i in columns:\n",
        "  print(\"Column : \",i)\n",
        "  display(df[i].value_counts())\n",
        "  print(\"#######################\")"
      ],
      "metadata": {
        "colab": {
          "base_uri": "https://localhost:8080/",
          "height": 1000
        },
        "id": "jCMQTFek32Yg",
        "outputId": "575efed6-17c6-402b-bdad-553cdac46e5b"
      },
      "execution_count": 9,
      "outputs": [
        {
          "output_type": "stream",
          "name": "stdout",
          "text": [
            "Column :  Unnamed: 0\n"
          ]
        },
        {
          "output_type": "display_data",
          "data": {
            "text/plain": [
              "0         1\n",
              "310839    1\n",
              "310865    1\n",
              "310864    1\n",
              "310863    1\n",
              "         ..\n",
              "155424    1\n",
              "155423    1\n",
              "155422    1\n",
              "155421    1\n",
              "466284    1\n",
              "Name: Unnamed: 0, Length: 466285, dtype: int64"
            ]
          },
          "metadata": {}
        },
        {
          "output_type": "stream",
          "name": "stdout",
          "text": [
            "#######################\n",
            "Column :  id\n"
          ]
        },
        {
          "output_type": "display_data",
          "data": {
            "text/plain": [
              "1077501     1\n",
              "26180404    1\n",
              "26219322    1\n",
              "26239577    1\n",
              "26290537    1\n",
              "           ..\n",
              "3714715     1\n",
              "3703738     1\n",
              "3731030     1\n",
              "3705772     1\n",
              "9199665     1\n",
              "Name: id, Length: 466285, dtype: int64"
            ]
          },
          "metadata": {}
        },
        {
          "output_type": "stream",
          "name": "stdout",
          "text": [
            "#######################\n",
            "Column :  member_id\n"
          ]
        },
        {
          "output_type": "display_data",
          "data": {
            "text/plain": [
              "1296599     1\n",
              "28653081    1\n",
              "28692177    1\n",
              "28702376    1\n",
              "28763241    1\n",
              "           ..\n",
              "4686866     1\n",
              "4847180     1\n",
              "4724047     1\n",
              "4678105     1\n",
              "11061576    1\n",
              "Name: member_id, Length: 466285, dtype: int64"
            ]
          },
          "metadata": {}
        },
        {
          "output_type": "stream",
          "name": "stdout",
          "text": [
            "#######################\n",
            "Column :  loan_amnt\n"
          ]
        },
        {
          "output_type": "display_data",
          "data": {
            "text/plain": [
              "10000    33023\n",
              "12000    25519\n",
              "15000    23486\n",
              "20000    22759\n",
              "35000    16596\n",
              "         ...  \n",
              "34250        1\n",
              "33400        1\n",
              "32150        1\n",
              "34325        1\n",
              "33175        1\n",
              "Name: loan_amnt, Length: 1352, dtype: int64"
            ]
          },
          "metadata": {}
        },
        {
          "output_type": "stream",
          "name": "stdout",
          "text": [
            "#######################\n",
            "Column :  funded_amnt\n"
          ]
        },
        {
          "output_type": "display_data",
          "data": {
            "text/plain": [
              "10000    32930\n",
              "12000    25426\n",
              "15000    23370\n",
              "20000    22571\n",
              "35000    16458\n",
              "         ...  \n",
              "34075        1\n",
              "31475        1\n",
              "33400        1\n",
              "34825        1\n",
              "34775        1\n",
              "Name: funded_amnt, Length: 1354, dtype: int64"
            ]
          },
          "metadata": {}
        },
        {
          "output_type": "stream",
          "name": "stdout",
          "text": [
            "#######################\n",
            "Column :  funded_amnt_inv\n"
          ]
        },
        {
          "output_type": "display_data",
          "data": {
            "text/plain": [
              "10000.000000    28683\n",
              "12000.000000    21732\n",
              "15000.000000    19473\n",
              "20000.000000    18070\n",
              "8000.000000     13232\n",
              "                ...  \n",
              "13274.512610        1\n",
              "9418.065777         1\n",
              "6493.646238         1\n",
              "3184.702704         1\n",
              "23750.235520        1\n",
              "Name: funded_amnt_inv, Length: 9854, dtype: int64"
            ]
          },
          "metadata": {}
        },
        {
          "output_type": "stream",
          "name": "stdout",
          "text": [
            "#######################\n",
            "Column :  term\n"
          ]
        },
        {
          "output_type": "display_data",
          "data": {
            "text/plain": [
              " 36 months    337953\n",
              " 60 months    128332\n",
              "Name: term, dtype: int64"
            ]
          },
          "metadata": {}
        },
        {
          "output_type": "stream",
          "name": "stdout",
          "text": [
            "#######################\n",
            "Column :  int_rate\n"
          ]
        },
        {
          "output_type": "display_data",
          "data": {
            "text/plain": [
              "12.99    15846\n",
              "10.99    14837\n",
              "15.61    13074\n",
              "8.90     11424\n",
              "16.29    10587\n",
              "         ...  \n",
              "24.40        1\n",
              "16.83        1\n",
              "17.78        1\n",
              "24.59        1\n",
              "18.72        1\n",
              "Name: int_rate, Length: 506, dtype: int64"
            ]
          },
          "metadata": {}
        },
        {
          "output_type": "stream",
          "name": "stdout",
          "text": [
            "#######################\n",
            "Column :  installment\n"
          ]
        },
        {
          "output_type": "display_data",
          "data": {
            "text/plain": [
              "327.34    1246\n",
              "336.90    1191\n",
              "332.10     978\n",
              "491.01     881\n",
              "392.81     855\n",
              "          ... \n",
              "73.19        1\n",
              "121.53       1\n",
              "776.65       1\n",
              "311.25       1\n",
              "217.65       1\n",
              "Name: installment, Length: 55622, dtype: int64"
            ]
          },
          "metadata": {}
        },
        {
          "output_type": "stream",
          "name": "stdout",
          "text": [
            "#######################\n",
            "Column :  grade\n"
          ]
        },
        {
          "output_type": "display_data",
          "data": {
            "text/plain": [
              "B    136929\n",
              "C    125293\n",
              "D     76888\n",
              "A     74867\n",
              "E     35757\n",
              "F     13229\n",
              "G      3322\n",
              "Name: grade, dtype: int64"
            ]
          },
          "metadata": {}
        },
        {
          "output_type": "stream",
          "name": "stdout",
          "text": [
            "#######################\n",
            "Column :  sub_grade\n"
          ]
        },
        {
          "output_type": "display_data",
          "data": {
            "text/plain": [
              "B3    31686\n",
              "B4    30505\n",
              "C1    26953\n",
              "C2    26740\n",
              "B2    26610\n",
              "C3    25317\n",
              "B5    25252\n",
              "C4    24105\n",
              "B1    22876\n",
              "C5    22178\n",
              "A5    21757\n",
              "D1    19261\n",
              "A4    19045\n",
              "D2    17046\n",
              "D3    14916\n",
              "D4    14099\n",
              "A3    12568\n",
              "D5    11566\n",
              "A2    10956\n",
              "A1    10541\n",
              "E1     9033\n",
              "E2     8669\n",
              "E3     6976\n",
              "E4     5992\n",
              "E5     5087\n",
              "F1     3940\n",
              "F2     3001\n",
              "F3     2708\n",
              "F4     2067\n",
              "F5     1513\n",
              "G1     1109\n",
              "G2      823\n",
              "G3      583\n",
              "G4      422\n",
              "G5      385\n",
              "Name: sub_grade, dtype: int64"
            ]
          },
          "metadata": {}
        },
        {
          "output_type": "stream",
          "name": "stdout",
          "text": [
            "#######################\n",
            "Column :  emp_title\n"
          ]
        },
        {
          "output_type": "display_data",
          "data": {
            "text/plain": [
              "0                                    27588\n",
              "Teacher                               5399\n",
              "Manager                               4438\n",
              "Registered Nurse                      2316\n",
              "RN                                    2204\n",
              "                                     ...  \n",
              "SEA Group, llc                           1\n",
              "The Eastern Arizona AHEC                 1\n",
              "Delaware Quarries.com                    1\n",
              "McCauley trucking and warehousing        1\n",
              "Server Engineer Lead                     1\n",
              "Name: emp_title, Length: 205476, dtype: int64"
            ]
          },
          "metadata": {}
        },
        {
          "output_type": "stream",
          "name": "stdout",
          "text": [
            "#######################\n",
            "Column :  emp_length\n"
          ]
        },
        {
          "output_type": "display_data",
          "data": {
            "text/plain": [
              "10+ years    150049\n",
              "2 years       41373\n",
              "3 years       36596\n",
              "< 1 year      36265\n",
              "5 years       30774\n",
              "1 year        29622\n",
              "4 years       28023\n",
              "7 years       26180\n",
              "6 years       26112\n",
              "8 years       22395\n",
              "0             21008\n",
              "9 years       17888\n",
              "Name: emp_length, dtype: int64"
            ]
          },
          "metadata": {}
        },
        {
          "output_type": "stream",
          "name": "stdout",
          "text": [
            "#######################\n",
            "Column :  home_ownership\n"
          ]
        },
        {
          "output_type": "display_data",
          "data": {
            "text/plain": [
              "MORTGAGE    235875\n",
              "RENT        188473\n",
              "OWN          41704\n",
              "OTHER          182\n",
              "NONE            50\n",
              "ANY              1\n",
              "Name: home_ownership, dtype: int64"
            ]
          },
          "metadata": {}
        },
        {
          "output_type": "stream",
          "name": "stdout",
          "text": [
            "#######################\n",
            "Column :  annual_inc\n"
          ]
        },
        {
          "output_type": "display_data",
          "data": {
            "text/plain": [
              "60000.0     17980\n",
              "50000.0     15949\n",
              "65000.0     13211\n",
              "40000.0     12864\n",
              "70000.0     12436\n",
              "            ...  \n",
              "93548.0         1\n",
              "80840.0         1\n",
              "257100.0        1\n",
              "91660.0         1\n",
              "72787.0         1\n",
              "Name: annual_inc, Length: 31902, dtype: int64"
            ]
          },
          "metadata": {}
        },
        {
          "output_type": "stream",
          "name": "stdout",
          "text": [
            "#######################\n",
            "Column :  verification_status\n"
          ]
        },
        {
          "output_type": "display_data",
          "data": {
            "text/plain": [
              "Verified           168055\n",
              "Source Verified    149993\n",
              "Not Verified       148237\n",
              "Name: verification_status, dtype: int64"
            ]
          },
          "metadata": {}
        },
        {
          "output_type": "stream",
          "name": "stdout",
          "text": [
            "#######################\n",
            "Column :  issue_d\n"
          ]
        },
        {
          "output_type": "display_data",
          "data": {
            "text/plain": [
              "Oct-14    38782\n",
              "Jul-14    29306\n",
              "Nov-14    25054\n",
              "May-14    19099\n",
              "Apr-14    19071\n",
              "          ...  \n",
              "Aug-07       74\n",
              "Jul-07       63\n",
              "Sep-08       57\n",
              "Sep-07       53\n",
              "Jun-07       24\n",
              "Name: issue_d, Length: 91, dtype: int64"
            ]
          },
          "metadata": {}
        },
        {
          "output_type": "stream",
          "name": "stdout",
          "text": [
            "#######################\n",
            "Column :  loan_status\n"
          ]
        },
        {
          "output_type": "display_data",
          "data": {
            "text/plain": [
              "1    414099\n",
              "0     52186\n",
              "Name: loan_status, dtype: int64"
            ]
          },
          "metadata": {}
        },
        {
          "output_type": "stream",
          "name": "stdout",
          "text": [
            "#######################\n",
            "Column :  pymnt_plan\n"
          ]
        },
        {
          "output_type": "display_data",
          "data": {
            "text/plain": [
              "n    466276\n",
              "y         9\n",
              "Name: pymnt_plan, dtype: int64"
            ]
          },
          "metadata": {}
        },
        {
          "output_type": "stream",
          "name": "stdout",
          "text": [
            "#######################\n",
            "Column :  url\n"
          ]
        },
        {
          "output_type": "display_data",
          "data": {
            "text/plain": [
              "https://www.lendingclub.com/browse/loanDetail.action?loan_id=1077501     1\n",
              "https://www.lendingclub.com/browse/loanDetail.action?loan_id=26180404    1\n",
              "https://www.lendingclub.com/browse/loanDetail.action?loan_id=26219322    1\n",
              "https://www.lendingclub.com/browse/loanDetail.action?loan_id=26239577    1\n",
              "https://www.lendingclub.com/browse/loanDetail.action?loan_id=26290537    1\n",
              "                                                                        ..\n",
              "https://www.lendingclub.com/browse/loanDetail.action?loan_id=3714715     1\n",
              "https://www.lendingclub.com/browse/loanDetail.action?loan_id=3703738     1\n",
              "https://www.lendingclub.com/browse/loanDetail.action?loan_id=3731030     1\n",
              "https://www.lendingclub.com/browse/loanDetail.action?loan_id=3705772     1\n",
              "https://www.lendingclub.com/browse/loanDetail.action?loan_id=9199665     1\n",
              "Name: url, Length: 466285, dtype: int64"
            ]
          },
          "metadata": {}
        },
        {
          "output_type": "stream",
          "name": "stdout",
          "text": [
            "#######################\n",
            "Column :  desc\n"
          ]
        },
        {
          "output_type": "display_data",
          "data": {
            "text/plain": [
              "0                                                                                                                                                                                                                                                340302\n",
              "                                                                                                                                                                                                                                                    234\n",
              "Debt Consolidation                                                                                                                                                                                                                                   13\n",
              "  Borrower added on 03/17/14 > Debt consolidation<br>                                                                                                                                                                                                11\n",
              "  Borrower added on 03/10/14 > Debt consolidation<br>                                                                                                                                                                                                10\n",
              "                                                                                                                                                                                                                                                  ...  \n",
              "  Borrower added on 09/24/13 > Credit debt<br>                                                                                                                                                                                                        1\n",
              "  Borrower added on 09/24/13 > wish to consolidate loans<br>                                                                                                                                                                                          1\n",
              "  Borrower added on 09/24/13 > To payoff credit card debt<br>                                                                                                                                                                                         1\n",
              "  Borrower added on 09/24/13 > To consolidate my debt by paying of my mortgage which is 278 a month my car payment which is 278 a month and 2 credit cards  which total 1800. By doing this I would free up an extra 200 dollars a month.<br>         1\n",
              "  Borrower added on 12/04/13 > I will like a loan to fix  our cars and paid our house property tax<br>                                                                                                                                                1\n",
              "Name: desc, Length: 124437, dtype: int64"
            ]
          },
          "metadata": {}
        },
        {
          "output_type": "stream",
          "name": "stdout",
          "text": [
            "#######################\n",
            "Column :  purpose\n"
          ]
        },
        {
          "output_type": "display_data",
          "data": {
            "text/plain": [
              "debt_consolidation    274195\n",
              "credit_card           104157\n",
              "home_improvement       26537\n",
              "other                  23690\n",
              "major_purchase          9828\n",
              "small_business          7013\n",
              "car                     5397\n",
              "medical                 4602\n",
              "moving                  2994\n",
              "vacation                2487\n",
              "wedding                 2343\n",
              "house                   2269\n",
              "educational              422\n",
              "renewable_energy         351\n",
              "Name: purpose, dtype: int64"
            ]
          },
          "metadata": {}
        },
        {
          "output_type": "stream",
          "name": "stdout",
          "text": [
            "#######################\n",
            "Column :  title\n"
          ]
        },
        {
          "output_type": "display_data",
          "data": {
            "text/plain": [
              "Debt consolidation                   164075\n",
              "Credit card refinancing               62275\n",
              "Debt Consolidation                    15760\n",
              "Home improvement                      14849\n",
              "Other                                 12713\n",
              "                                      ...  \n",
              "Credit Card Clearance                     1\n",
              "credit repayment                          1\n",
              "medical bills/credit card payoff          1\n",
              "One Time Only Relief!                     1\n",
              "Paying off the car and some bills         1\n",
              "Name: title, Length: 63100, dtype: int64"
            ]
          },
          "metadata": {}
        },
        {
          "output_type": "stream",
          "name": "stdout",
          "text": [
            "#######################\n",
            "Column :  zip_code\n"
          ]
        },
        {
          "output_type": "display_data",
          "data": {
            "text/plain": [
              "945xx    5304\n",
              "112xx    5102\n",
              "750xx    5013\n",
              "606xx    4696\n",
              "100xx    4391\n",
              "         ... \n",
              "204xx       1\n",
              "502xx       1\n",
              "514xx       1\n",
              "049xx       1\n",
              "901xx       1\n",
              "Name: zip_code, Length: 888, dtype: int64"
            ]
          },
          "metadata": {}
        },
        {
          "output_type": "stream",
          "name": "stdout",
          "text": [
            "#######################\n",
            "Column :  addr_state\n"
          ]
        },
        {
          "output_type": "display_data",
          "data": {
            "text/plain": [
              "CA    71450\n",
              "NY    40242\n",
              "TX    36439\n",
              "FL    31637\n",
              "IL    18612\n",
              "NJ    18061\n",
              "PA    16424\n",
              "OH    15237\n",
              "GA    14975\n",
              "VA    14222\n",
              "NC    12682\n",
              "MI    11549\n",
              "MA    11072\n",
              "MD    10974\n",
              "AZ    10712\n",
              "WA    10517\n",
              "CO     9739\n",
              "MN     8158\n",
              "MO     7508\n",
              "CT     7204\n",
              "IN     6525\n",
              "NV     6519\n",
              "TN     5984\n",
              "OR     5949\n",
              "WI     5911\n",
              "AL     5853\n",
              "SC     5583\n",
              "LA     5489\n",
              "KY     4438\n",
              "KS     4190\n",
              "OK     4117\n",
              "AR     3488\n",
              "UT     3428\n",
              "NM     2588\n",
              "HI     2487\n",
              "WV     2412\n",
              "NH     2232\n",
              "RI     2050\n",
              "DC     1426\n",
              "MT     1396\n",
              "DE     1272\n",
              "AK     1251\n",
              "MS     1226\n",
              "WY     1128\n",
              "SD      980\n",
              "VT      905\n",
              "IA       14\n",
              "NE       14\n",
              "ID       12\n",
              "ME        4\n",
              "Name: addr_state, dtype: int64"
            ]
          },
          "metadata": {}
        },
        {
          "output_type": "stream",
          "name": "stdout",
          "text": [
            "#######################\n",
            "Column :  dti\n"
          ]
        },
        {
          "output_type": "display_data",
          "data": {
            "text/plain": [
              "14.40    410\n",
              "19.20    381\n",
              "12.00    369\n",
              "16.80    368\n",
              "18.00    365\n",
              "        ... \n",
              "37.51      2\n",
              "39.94      1\n",
              "38.95      1\n",
              "35.54      1\n",
              "39.14      1\n",
              "Name: dti, Length: 3997, dtype: int64"
            ]
          },
          "metadata": {}
        },
        {
          "output_type": "stream",
          "name": "stdout",
          "text": [
            "#######################\n",
            "Column :  delinq_2yrs\n"
          ]
        },
        {
          "output_type": "display_data",
          "data": {
            "text/plain": [
              "0.0     382983\n",
              "1.0      56224\n",
              "2.0      16310\n",
              "3.0       5684\n",
              "4.0       2378\n",
              "5.0       1236\n",
              "6.0        629\n",
              "7.0        346\n",
              "8.0        177\n",
              "9.0        111\n",
              "10.0        65\n",
              "11.0        41\n",
              "12.0        38\n",
              "13.0        25\n",
              "14.0         8\n",
              "15.0         7\n",
              "18.0         6\n",
              "16.0         5\n",
              "17.0         3\n",
              "19.0         3\n",
              "21.0         2\n",
              "22.0         2\n",
              "29.0         1\n",
              "24.0         1\n",
              "Name: delinq_2yrs, dtype: int64"
            ]
          },
          "metadata": {}
        },
        {
          "output_type": "stream",
          "name": "stdout",
          "text": [
            "#######################\n",
            "Column :  earliest_cr_line\n"
          ]
        },
        {
          "output_type": "display_data",
          "data": {
            "text/plain": [
              "Oct-00    3674\n",
              "Aug-00    3597\n",
              "Aug-01    3455\n",
              "Oct-99    3406\n",
              "Oct-01    3329\n",
              "          ... \n",
              "Jul-55       1\n",
              "Feb-57       1\n",
              "Oct-54       1\n",
              "May-53       1\n",
              "Nov-56       1\n",
              "Name: earliest_cr_line, Length: 665, dtype: int64"
            ]
          },
          "metadata": {}
        },
        {
          "output_type": "stream",
          "name": "stdout",
          "text": [
            "#######################\n",
            "Column :  inq_last_6mths\n"
          ]
        },
        {
          "output_type": "display_data",
          "data": {
            "text/plain": [
              "0.0     241527\n",
              "1.0     130148\n",
              "2.0      57825\n",
              "3.0      25126\n",
              "4.0       7241\n",
              "5.0       2768\n",
              "6.0       1188\n",
              "7.0        195\n",
              "8.0        122\n",
              "9.0         50\n",
              "10.0        24\n",
              "11.0        15\n",
              "12.0        15\n",
              "15.0         9\n",
              "13.0         6\n",
              "14.0         6\n",
              "18.0         4\n",
              "16.0         3\n",
              "17.0         2\n",
              "24.0         2\n",
              "19.0         2\n",
              "32.0         1\n",
              "33.0         1\n",
              "31.0         1\n",
              "28.0         1\n",
              "25.0         1\n",
              "27.0         1\n",
              "20.0         1\n",
              "Name: inq_last_6mths, dtype: int64"
            ]
          },
          "metadata": {}
        },
        {
          "output_type": "stream",
          "name": "stdout",
          "text": [
            "#######################\n",
            "Column :  mths_since_last_delinq\n"
          ]
        },
        {
          "output_type": "display_data",
          "data": {
            "text/plain": [
              "0.0      251574\n",
              "9.0        4358\n",
              "8.0        4272\n",
              "13.0       4260\n",
              "12.0       4193\n",
              "          ...  \n",
              "156.0         1\n",
              "118.0         1\n",
              "149.0         1\n",
              "119.0         1\n",
              "121.0         1\n",
              "Name: mths_since_last_delinq, Length: 145, dtype: int64"
            ]
          },
          "metadata": {}
        },
        {
          "output_type": "stream",
          "name": "stdout",
          "text": [
            "#######################\n",
            "Column :  mths_since_last_record\n"
          ]
        },
        {
          "output_type": "display_data",
          "data": {
            "text/plain": [
              "0.0      404925\n",
              "109.0      1098\n",
              "108.0       999\n",
              "106.0       968\n",
              "104.0       953\n",
              "          ...  \n",
              "1.0          28\n",
              "2.0          24\n",
              "120.0         2\n",
              "121.0         2\n",
              "129.0         1\n",
              "Name: mths_since_last_record, Length: 123, dtype: int64"
            ]
          },
          "metadata": {}
        },
        {
          "output_type": "stream",
          "name": "stdout",
          "text": [
            "#######################\n",
            "Column :  open_acc\n"
          ]
        },
        {
          "output_type": "display_data",
          "data": {
            "text/plain": [
              "9.0     44019\n",
              "10.0    42512\n",
              "8.0     41893\n",
              "11.0    39112\n",
              "7.0     37602\n",
              "        ...  \n",
              "55.0        2\n",
              "62.0        1\n",
              "84.0        1\n",
              "75.0        1\n",
              "61.0        1\n",
              "Name: open_acc, Length: 62, dtype: int64"
            ]
          },
          "metadata": {}
        },
        {
          "output_type": "stream",
          "name": "stdout",
          "text": [
            "#######################\n",
            "Column :  pub_rec\n"
          ]
        },
        {
          "output_type": "display_data",
          "data": {
            "text/plain": [
              "0.0     404922\n",
              "1.0      53051\n",
              "2.0       5624\n",
              "3.0       1611\n",
              "4.0        520\n",
              "5.0        276\n",
              "6.0        136\n",
              "7.0         62\n",
              "8.0         29\n",
              "9.0         16\n",
              "10.0        13\n",
              "11.0         8\n",
              "12.0         2\n",
              "18.0         2\n",
              "13.0         2\n",
              "40.0         1\n",
              "34.0         1\n",
              "21.0         1\n",
              "63.0         1\n",
              "54.0         1\n",
              "14.0         1\n",
              "15.0         1\n",
              "16.0         1\n",
              "19.0         1\n",
              "49.0         1\n",
              "17.0         1\n",
              "Name: pub_rec, dtype: int64"
            ]
          },
          "metadata": {}
        },
        {
          "output_type": "stream",
          "name": "stdout",
          "text": [
            "#######################\n",
            "Column :  revol_bal\n"
          ]
        },
        {
          "output_type": "display_data",
          "data": {
            "text/plain": [
              "0         2269\n",
              "6052        40\n",
              "8696        39\n",
              "5896        39\n",
              "4532        39\n",
              "          ... \n",
              "51021        1\n",
              "38032        1\n",
              "45601        1\n",
              "40823        1\n",
              "119663       1\n",
              "Name: revol_bal, Length: 58142, dtype: int64"
            ]
          },
          "metadata": {}
        },
        {
          "output_type": "stream",
          "name": "stdout",
          "text": [
            "#######################\n",
            "Column :  revol_util\n"
          ]
        },
        {
          "output_type": "display_data",
          "data": {
            "text/plain": [
              "0.00      2624\n",
              "58.00      864\n",
              "53.00      850\n",
              "59.00      845\n",
              "61.00      832\n",
              "          ... \n",
              "8.49         1\n",
              "88.48        1\n",
              "7.43         1\n",
              "11.63        1\n",
              "141.80       1\n",
              "Name: revol_util, Length: 1269, dtype: int64"
            ]
          },
          "metadata": {}
        },
        {
          "output_type": "stream",
          "name": "stdout",
          "text": [
            "#######################\n",
            "Column :  total_acc\n"
          ]
        },
        {
          "output_type": "display_data",
          "data": {
            "text/plain": [
              "21.0     17087\n",
              "20.0     17073\n",
              "22.0     17028\n",
              "23.0     16719\n",
              "19.0     16709\n",
              "         ...  \n",
              "106.0        1\n",
              "156.0        1\n",
              "101.0        1\n",
              "96.0         1\n",
              "118.0        1\n",
              "Name: total_acc, Length: 113, dtype: int64"
            ]
          },
          "metadata": {}
        },
        {
          "output_type": "stream",
          "name": "stdout",
          "text": [
            "#######################\n",
            "Column :  initial_list_status\n"
          ]
        },
        {
          "output_type": "display_data",
          "data": {
            "text/plain": [
              "f    303005\n",
              "w    163280\n",
              "Name: initial_list_status, dtype: int64"
            ]
          },
          "metadata": {}
        },
        {
          "output_type": "stream",
          "name": "stdout",
          "text": [
            "#######################\n",
            "Column :  out_prncp\n"
          ]
        },
        {
          "output_type": "display_data",
          "data": {
            "text/plain": [
              "0.00        229999\n",
              "5684.61         80\n",
              "6563.61         79\n",
              "5617.88         78\n",
              "6110.65         76\n",
              "             ...  \n",
              "788.62           1\n",
              "2656.39          1\n",
              "602.44           1\n",
              "18067.18         1\n",
              "3984.38          1\n",
              "Name: out_prncp, Length: 135665, dtype: int64"
            ]
          },
          "metadata": {}
        },
        {
          "output_type": "stream",
          "name": "stdout",
          "text": [
            "#######################\n",
            "Column :  out_prncp_inv\n"
          ]
        },
        {
          "output_type": "display_data",
          "data": {
            "text/plain": [
              "0.00        229999\n",
              "6563.61         78\n",
              "5684.61         77\n",
              "5617.88         76\n",
              "6110.65         75\n",
              "             ...  \n",
              "1273.13          1\n",
              "16869.63         1\n",
              "9541.53          1\n",
              "1273.53          1\n",
              "3974.41          1\n",
              "Name: out_prncp_inv, Length: 141189, dtype: int64"
            ]
          },
          "metadata": {}
        },
        {
          "output_type": "stream",
          "name": "stdout",
          "text": [
            "#######################\n",
            "Column :  total_pymnt\n"
          ]
        },
        {
          "output_type": "display_data",
          "data": {
            "text/plain": [
              "6743.730000     117\n",
              "0.000000         87\n",
              "5564.780000      78\n",
              "5497.460000      75\n",
              "5419.430000      75\n",
              "               ... \n",
              "6307.496889       1\n",
              "4271.330000       1\n",
              "10706.700000      1\n",
              "21385.730000      1\n",
              "8821.620000       1\n",
              "Name: total_pymnt, Length: 351609, dtype: int64"
            ]
          },
          "metadata": {}
        },
        {
          "output_type": "stream",
          "name": "stdout",
          "text": [
            "#######################\n",
            "Column :  total_pymnt_inv\n"
          ]
        },
        {
          "output_type": "display_data",
          "data": {
            "text/plain": [
              "0.00        365\n",
              "6743.73     113\n",
              "5564.78      77\n",
              "5419.43      73\n",
              "5497.46      72\n",
              "           ... \n",
              "7158.22       1\n",
              "9651.34       1\n",
              "4140.95       1\n",
              "24206.64      1\n",
              "8799.57       1\n",
              "Name: total_pymnt_inv, Length: 347659, dtype: int64"
            ]
          },
          "metadata": {}
        },
        {
          "output_type": "stream",
          "name": "stdout",
          "text": [
            "#######################\n",
            "Column :  total_rec_prncp\n"
          ]
        },
        {
          "output_type": "display_data",
          "data": {
            "text/plain": [
              "10000.00    13267\n",
              "12000.00    10469\n",
              "15000.00     8552\n",
              "20000.00     7673\n",
              "8000.00      6522\n",
              "            ...  \n",
              "16731.08        1\n",
              "3987.47         1\n",
              "6927.01         1\n",
              "11253.08        1\n",
              "6015.62         1\n",
              "Name: total_rec_prncp, Length: 172713, dtype: int64"
            ]
          },
          "metadata": {}
        },
        {
          "output_type": "stream",
          "name": "stdout",
          "text": [
            "#######################\n",
            "Column :  total_rec_int\n"
          ]
        },
        {
          "output_type": "display_data",
          "data": {
            "text/plain": [
              "0.00       379\n",
              "1249.39     78\n",
              "1329.13     75\n",
              "1037.31     74\n",
              "1350.99     72\n",
              "          ... \n",
              "5322.44      1\n",
              "7909.43      1\n",
              "9697.29      1\n",
              "3723.50      1\n",
              "6072.29      1\n",
              "Name: total_rec_int, Length: 270249, dtype: int64"
            ]
          },
          "metadata": {}
        },
        {
          "output_type": "stream",
          "name": "stdout",
          "text": [
            "#######################\n",
            "Column :  total_rec_late_fee\n"
          ]
        },
        {
          "output_type": "display_data",
          "data": {
            "text/plain": [
              "0.000000     455607\n",
              "15.000000      2223\n",
              "30.000000       285\n",
              "45.000000        50\n",
              "16.840000        15\n",
              "              ...  \n",
              "15.026894         1\n",
              "23.190501         1\n",
              "14.959976         1\n",
              "37.751380         1\n",
              "41.150000         1\n",
              "Name: total_rec_late_fee, Length: 5808, dtype: int64"
            ]
          },
          "metadata": {}
        },
        {
          "output_type": "stream",
          "name": "stdout",
          "text": [
            "#######################\n",
            "Column :  recoveries\n"
          ]
        },
        {
          "output_type": "display_data",
          "data": {
            "text/plain": [
              "0.00       441914\n",
              "14.28           9\n",
              "11.70           9\n",
              "200.00          9\n",
              "10.00           9\n",
              "            ...  \n",
              "423.23          1\n",
              "2311.77         1\n",
              "850.18          1\n",
              "5052.98         1\n",
              "1159.40         1\n",
              "Name: recoveries, Length: 22773, dtype: int64"
            ]
          },
          "metadata": {}
        },
        {
          "output_type": "stream",
          "name": "stdout",
          "text": [
            "#######################\n",
            "Column :  collection_recovery_fee\n"
          ]
        },
        {
          "output_type": "display_data",
          "data": {
            "text/plain": [
              "0.0000      443079\n",
              "2.0000          18\n",
              "1.8000          13\n",
              "1.8800          12\n",
              "1.2000          12\n",
              "             ...  \n",
              "330.4404         1\n",
              "149.1210         1\n",
              "2.9795           1\n",
              "8.8326           1\n",
              "11.5940          1\n",
              "Name: collection_recovery_fee, Length: 20275, dtype: int64"
            ]
          },
          "metadata": {}
        },
        {
          "output_type": "stream",
          "name": "stdout",
          "text": [
            "#######################\n",
            "Column :  last_pymnt_d\n"
          ]
        },
        {
          "output_type": "display_data",
          "data": {
            "text/plain": [
              "Jan-16    179620\n",
              "Dec-15     62000\n",
              "Jul-15     11703\n",
              "Oct-15     11248\n",
              "Sep-15     10204\n",
              "           ...  \n",
              "Jun-08        20\n",
              "Mar-08        18\n",
              "Jan-08        11\n",
              "Feb-08         8\n",
              "Dec-07         2\n",
              "Name: last_pymnt_d, Length: 99, dtype: int64"
            ]
          },
          "metadata": {}
        },
        {
          "output_type": "stream",
          "name": "stdout",
          "text": [
            "#######################\n",
            "Column :  last_pymnt_amnt\n"
          ]
        },
        {
          "output_type": "display_data",
          "data": {
            "text/plain": [
              "327.34      860\n",
              "336.90      828\n",
              "332.10      625\n",
              "491.01      579\n",
              "392.81      567\n",
              "           ... \n",
              "2535.08       1\n",
              "6432.03       1\n",
              "6705.61       1\n",
              "14086.04      1\n",
              "1500.68       1\n",
              "Name: last_pymnt_amnt, Length: 198194, dtype: int64"
            ]
          },
          "metadata": {}
        },
        {
          "output_type": "stream",
          "name": "stdout",
          "text": [
            "#######################\n",
            "Column :  next_pymnt_d\n"
          ]
        },
        {
          "output_type": "display_data",
          "data": {
            "text/plain": [
              "0         227214\n",
              "Feb-16    208393\n",
              "Jan-16     27922\n",
              "Mar-11       107\n",
              "Apr-11       101\n",
              "           ...  \n",
              "Jul-14         2\n",
              "Feb-08         2\n",
              "May-08         1\n",
              "Dec-07         1\n",
              "Mar-15         1\n",
              "Name: next_pymnt_d, Length: 101, dtype: int64"
            ]
          },
          "metadata": {}
        },
        {
          "output_type": "stream",
          "name": "stdout",
          "text": [
            "#######################\n",
            "Column :  last_credit_pull_d\n"
          ]
        },
        {
          "output_type": "display_data",
          "data": {
            "text/plain": [
              "Jan-16    327699\n",
              "Dec-15     13992\n",
              "Nov-15      8384\n",
              "Sep-15      8051\n",
              "Oct-15      7957\n",
              "           ...  \n",
              "Nov-07         3\n",
              "Jul-08         1\n",
              "May-08         1\n",
              "Jun-08         1\n",
              "Jul-07         1\n",
              "Name: last_credit_pull_d, Length: 104, dtype: int64"
            ]
          },
          "metadata": {}
        },
        {
          "output_type": "stream",
          "name": "stdout",
          "text": [
            "#######################\n",
            "Column :  collections_12_mths_ex_med\n"
          ]
        },
        {
          "output_type": "display_data",
          "data": {
            "text/plain": [
              "0.0     462371\n",
              "1.0       3665\n",
              "2.0        219\n",
              "3.0         19\n",
              "4.0          7\n",
              "6.0          1\n",
              "16.0         1\n",
              "20.0         1\n",
              "5.0          1\n",
              "Name: collections_12_mths_ex_med, dtype: int64"
            ]
          },
          "metadata": {}
        },
        {
          "output_type": "stream",
          "name": "stdout",
          "text": [
            "#######################\n",
            "Column :  mths_since_last_major_derog\n"
          ]
        },
        {
          "output_type": "display_data",
          "data": {
            "text/plain": [
              "0.0      367390\n",
              "45.0       1672\n",
              "46.0       1670\n",
              "42.0       1656\n",
              "48.0       1637\n",
              "          ...  \n",
              "180.0         1\n",
              "188.0         1\n",
              "150.0         1\n",
              "159.0         1\n",
              "145.0         1\n",
              "Name: mths_since_last_major_derog, Length: 162, dtype: int64"
            ]
          },
          "metadata": {}
        },
        {
          "output_type": "stream",
          "name": "stdout",
          "text": [
            "#######################\n",
            "Column :  policy_code\n"
          ]
        },
        {
          "output_type": "display_data",
          "data": {
            "text/plain": [
              "1    466285\n",
              "Name: policy_code, dtype: int64"
            ]
          },
          "metadata": {}
        },
        {
          "output_type": "stream",
          "name": "stdout",
          "text": [
            "#######################\n",
            "Column :  application_type\n"
          ]
        },
        {
          "output_type": "display_data",
          "data": {
            "text/plain": [
              "INDIVIDUAL    466285\n",
              "Name: application_type, dtype: int64"
            ]
          },
          "metadata": {}
        },
        {
          "output_type": "stream",
          "name": "stdout",
          "text": [
            "#######################\n",
            "Column :  annual_inc_joint\n"
          ]
        },
        {
          "output_type": "display_data",
          "data": {
            "text/plain": [
              "0.0    466285\n",
              "Name: annual_inc_joint, dtype: int64"
            ]
          },
          "metadata": {}
        },
        {
          "output_type": "stream",
          "name": "stdout",
          "text": [
            "#######################\n",
            "Column :  dti_joint\n"
          ]
        },
        {
          "output_type": "display_data",
          "data": {
            "text/plain": [
              "0.0    466285\n",
              "Name: dti_joint, dtype: int64"
            ]
          },
          "metadata": {}
        },
        {
          "output_type": "stream",
          "name": "stdout",
          "text": [
            "#######################\n",
            "Column :  verification_status_joint\n"
          ]
        },
        {
          "output_type": "display_data",
          "data": {
            "text/plain": [
              "0.0    466285\n",
              "Name: verification_status_joint, dtype: int64"
            ]
          },
          "metadata": {}
        },
        {
          "output_type": "stream",
          "name": "stdout",
          "text": [
            "#######################\n",
            "Column :  acc_now_delinq\n"
          ]
        },
        {
          "output_type": "display_data",
          "data": {
            "text/plain": [
              "0.0    464553\n",
              "1.0      1623\n",
              "2.0        92\n",
              "3.0        11\n",
              "4.0         4\n",
              "5.0         2\n",
              "Name: acc_now_delinq, dtype: int64"
            ]
          },
          "metadata": {}
        },
        {
          "output_type": "stream",
          "name": "stdout",
          "text": [
            "#######################\n",
            "Column :  tot_coll_amt\n"
          ]
        },
        {
          "output_type": "display_data",
          "data": {
            "text/plain": [
              "0.0        416535\n",
              "50.0          837\n",
              "100.0         650\n",
              "75.0          515\n",
              "60.0          309\n",
              "            ...  \n",
              "13779.0         1\n",
              "15036.0         1\n",
              "15986.0         1\n",
              "2477.0          1\n",
              "6532.0          1\n",
              "Name: tot_coll_amt, Length: 6321, dtype: int64"
            ]
          },
          "metadata": {}
        },
        {
          "output_type": "stream",
          "name": "stdout",
          "text": [
            "#######################\n",
            "Column :  tot_cur_bal\n"
          ]
        },
        {
          "output_type": "display_data",
          "data": {
            "text/plain": [
              "0.0         70354\n",
              "23254.0        15\n",
              "14186.0        15\n",
              "28674.0        14\n",
              "30491.0        14\n",
              "            ...  \n",
              "179524.0        1\n",
              "217367.0        1\n",
              "111276.0        1\n",
              "260290.0        1\n",
              "57477.0         1\n",
              "Name: tot_cur_bal, Length: 220690, dtype: int64"
            ]
          },
          "metadata": {}
        },
        {
          "output_type": "stream",
          "name": "stdout",
          "text": [
            "#######################\n",
            "Column :  open_acc_6m\n"
          ]
        },
        {
          "output_type": "display_data",
          "data": {
            "text/plain": [
              "0.0    466285\n",
              "Name: open_acc_6m, dtype: int64"
            ]
          },
          "metadata": {}
        },
        {
          "output_type": "stream",
          "name": "stdout",
          "text": [
            "#######################\n",
            "Column :  open_il_6m\n"
          ]
        },
        {
          "output_type": "display_data",
          "data": {
            "text/plain": [
              "0.0    466285\n",
              "Name: open_il_6m, dtype: int64"
            ]
          },
          "metadata": {}
        },
        {
          "output_type": "stream",
          "name": "stdout",
          "text": [
            "#######################\n",
            "Column :  open_il_12m\n"
          ]
        },
        {
          "output_type": "display_data",
          "data": {
            "text/plain": [
              "0.0    466285\n",
              "Name: open_il_12m, dtype: int64"
            ]
          },
          "metadata": {}
        },
        {
          "output_type": "stream",
          "name": "stdout",
          "text": [
            "#######################\n",
            "Column :  open_il_24m\n"
          ]
        },
        {
          "output_type": "display_data",
          "data": {
            "text/plain": [
              "0.0    466285\n",
              "Name: open_il_24m, dtype: int64"
            ]
          },
          "metadata": {}
        },
        {
          "output_type": "stream",
          "name": "stdout",
          "text": [
            "#######################\n",
            "Column :  mths_since_rcnt_il\n"
          ]
        },
        {
          "output_type": "display_data",
          "data": {
            "text/plain": [
              "0.0    466285\n",
              "Name: mths_since_rcnt_il, dtype: int64"
            ]
          },
          "metadata": {}
        },
        {
          "output_type": "stream",
          "name": "stdout",
          "text": [
            "#######################\n",
            "Column :  total_bal_il\n"
          ]
        },
        {
          "output_type": "display_data",
          "data": {
            "text/plain": [
              "0.0    466285\n",
              "Name: total_bal_il, dtype: int64"
            ]
          },
          "metadata": {}
        },
        {
          "output_type": "stream",
          "name": "stdout",
          "text": [
            "#######################\n",
            "Column :  il_util\n"
          ]
        },
        {
          "output_type": "display_data",
          "data": {
            "text/plain": [
              "0.0    466285\n",
              "Name: il_util, dtype: int64"
            ]
          },
          "metadata": {}
        },
        {
          "output_type": "stream",
          "name": "stdout",
          "text": [
            "#######################\n",
            "Column :  open_rv_12m\n"
          ]
        },
        {
          "output_type": "display_data",
          "data": {
            "text/plain": [
              "0.0    466285\n",
              "Name: open_rv_12m, dtype: int64"
            ]
          },
          "metadata": {}
        },
        {
          "output_type": "stream",
          "name": "stdout",
          "text": [
            "#######################\n",
            "Column :  open_rv_24m\n"
          ]
        },
        {
          "output_type": "display_data",
          "data": {
            "text/plain": [
              "0.0    466285\n",
              "Name: open_rv_24m, dtype: int64"
            ]
          },
          "metadata": {}
        },
        {
          "output_type": "stream",
          "name": "stdout",
          "text": [
            "#######################\n",
            "Column :  max_bal_bc\n"
          ]
        },
        {
          "output_type": "display_data",
          "data": {
            "text/plain": [
              "0.0    466285\n",
              "Name: max_bal_bc, dtype: int64"
            ]
          },
          "metadata": {}
        },
        {
          "output_type": "stream",
          "name": "stdout",
          "text": [
            "#######################\n",
            "Column :  all_util\n"
          ]
        },
        {
          "output_type": "display_data",
          "data": {
            "text/plain": [
              "0.0    466285\n",
              "Name: all_util, dtype: int64"
            ]
          },
          "metadata": {}
        },
        {
          "output_type": "stream",
          "name": "stdout",
          "text": [
            "#######################\n",
            "Column :  total_rev_hi_lim\n"
          ]
        },
        {
          "output_type": "display_data",
          "data": {
            "text/plain": [
              "0.0         70431\n",
              "15000.0      1392\n",
              "13500.0      1324\n",
              "10000.0      1316\n",
              "12000.0      1301\n",
              "            ...  \n",
              "29117.0         1\n",
              "31243.0         1\n",
              "84434.0         1\n",
              "89535.0         1\n",
              "479500.0        1\n",
              "Name: total_rev_hi_lim, Length: 14612, dtype: int64"
            ]
          },
          "metadata": {}
        },
        {
          "output_type": "stream",
          "name": "stdout",
          "text": [
            "#######################\n",
            "Column :  inq_fi\n"
          ]
        },
        {
          "output_type": "display_data",
          "data": {
            "text/plain": [
              "0.0    466285\n",
              "Name: inq_fi, dtype: int64"
            ]
          },
          "metadata": {}
        },
        {
          "output_type": "stream",
          "name": "stdout",
          "text": [
            "#######################\n",
            "Column :  total_cu_tl\n"
          ]
        },
        {
          "output_type": "display_data",
          "data": {
            "text/plain": [
              "0.0    466285\n",
              "Name: total_cu_tl, dtype: int64"
            ]
          },
          "metadata": {}
        },
        {
          "output_type": "stream",
          "name": "stdout",
          "text": [
            "#######################\n",
            "Column :  inq_last_12m\n"
          ]
        },
        {
          "output_type": "display_data",
          "data": {
            "text/plain": [
              "0.0    466285\n",
              "Name: inq_last_12m, dtype: int64"
            ]
          },
          "metadata": {}
        },
        {
          "output_type": "stream",
          "name": "stdout",
          "text": [
            "#######################\n"
          ]
        }
      ]
    },
    {
      "cell_type": "code",
      "source": [
        "dropping = [\"Unnamed: 0\",\"id\",\"member_id\",\"issue_d\",\"url\",\"desc\",\"all_util\",\"max_bal_bc\",\"open_rv_24m\",\"open_rv_12m\",\"il_util\",\"total_bal_il\",\"mths_since_rcnt_il\",\"open_il_24m\",\"open_il_12m\",\"open_il_6m\",\"open_acc_6m\",\"verification_status_joint\",\"dti_joint\",\"annual_inc_joint\",\"application_type\",\"policy_code\"]"
      ],
      "metadata": {
        "id": "N4uQ375y0vLW"
      },
      "execution_count": 10,
      "outputs": []
    },
    {
      "cell_type": "code",
      "source": [
        "# need to be fix\n",
        "\"\"\"emp_title\n",
        "term\n",
        "emp_length\n",
        "home_ownership\n",
        "verification_status\n",
        "pymnt_plan\n",
        "purpose\n",
        "title\n",
        "zip_code\n",
        "addr_state\n",
        "initial_list_status\n",
        "earliest_cr_line\n",
        "total_pymnt\"\"\""
      ],
      "metadata": {
        "id": "N8cNc2Gq3ri6",
        "colab": {
          "base_uri": "https://localhost:8080/",
          "height": 53
        },
        "outputId": "595c36a2-e96f-4b62-a21b-4d5d0558a488"
      },
      "execution_count": 11,
      "outputs": [
        {
          "output_type": "execute_result",
          "data": {
            "text/plain": [
              "'emp_title\\nterm\\nemp_length\\nhome_ownership\\nverification_status\\npymnt_plan\\npurpose\\ntitle\\nzip_code\\naddr_state\\ninitial_list_status\\nearliest_cr_line\\ntotal_pymnt'"
            ],
            "application/vnd.google.colaboratory.intrinsic+json": {
              "type": "string"
            }
          },
          "metadata": {},
          "execution_count": 11
        }
      ]
    },
    {
      "cell_type": "code",
      "source": [
        "df = df.drop(dropping, 1)\n",
        "display(df.head(3))"
      ],
      "metadata": {
        "id": "XMxcvEWf3rlZ",
        "colab": {
          "base_uri": "https://localhost:8080/",
          "height": 324
        },
        "outputId": "3404f929-80c3-41c2-8e40-94b1f08cface"
      },
      "execution_count": 12,
      "outputs": [
        {
          "output_type": "stream",
          "name": "stderr",
          "text": [
            "/usr/local/lib/python3.7/dist-packages/ipykernel_launcher.py:1: FutureWarning: In a future version of pandas all arguments of DataFrame.drop except for the argument 'labels' will be keyword-only\n",
            "  \"\"\"Entry point for launching an IPython kernel.\n"
          ]
        },
        {
          "output_type": "display_data",
          "data": {
            "text/plain": [
              "   loan_amnt  funded_amnt  funded_amnt_inv        term  int_rate  installment  \\\n",
              "0       5000         5000           4975.0   36 months     10.65       162.87   \n",
              "1       2500         2500           2500.0   60 months     15.27        59.83   \n",
              "2       2400         2400           2400.0   36 months     15.96        84.33   \n",
              "\n",
              "  grade sub_grade emp_title emp_length  ... last_credit_pull_d  \\\n",
              "0     B        B2         0  10+ years  ...             Jan-16   \n",
              "1     C        C4     Ryder   < 1 year  ...             Sep-13   \n",
              "2     C        C5         0  10+ years  ...             Jan-16   \n",
              "\n",
              "   collections_12_mths_ex_med mths_since_last_major_derog acc_now_delinq  \\\n",
              "0                         0.0                         0.0            0.0   \n",
              "1                         0.0                         0.0            0.0   \n",
              "2                         0.0                         0.0            0.0   \n",
              "\n",
              "  tot_coll_amt tot_cur_bal total_rev_hi_lim inq_fi total_cu_tl  inq_last_12m  \n",
              "0          0.0         0.0              0.0    0.0         0.0           0.0  \n",
              "1          0.0         0.0              0.0    0.0         0.0           0.0  \n",
              "2          0.0         0.0              0.0    0.0         0.0           0.0  \n",
              "\n",
              "[3 rows x 53 columns]"
            ],
            "text/html": [
              "\n",
              "  <div id=\"df-f0d8e3d0-bcbd-43cf-8aa6-2836e1674286\">\n",
              "    <div class=\"colab-df-container\">\n",
              "      <div>\n",
              "<style scoped>\n",
              "    .dataframe tbody tr th:only-of-type {\n",
              "        vertical-align: middle;\n",
              "    }\n",
              "\n",
              "    .dataframe tbody tr th {\n",
              "        vertical-align: top;\n",
              "    }\n",
              "\n",
              "    .dataframe thead th {\n",
              "        text-align: right;\n",
              "    }\n",
              "</style>\n",
              "<table border=\"1\" class=\"dataframe\">\n",
              "  <thead>\n",
              "    <tr style=\"text-align: right;\">\n",
              "      <th></th>\n",
              "      <th>loan_amnt</th>\n",
              "      <th>funded_amnt</th>\n",
              "      <th>funded_amnt_inv</th>\n",
              "      <th>term</th>\n",
              "      <th>int_rate</th>\n",
              "      <th>installment</th>\n",
              "      <th>grade</th>\n",
              "      <th>sub_grade</th>\n",
              "      <th>emp_title</th>\n",
              "      <th>emp_length</th>\n",
              "      <th>...</th>\n",
              "      <th>last_credit_pull_d</th>\n",
              "      <th>collections_12_mths_ex_med</th>\n",
              "      <th>mths_since_last_major_derog</th>\n",
              "      <th>acc_now_delinq</th>\n",
              "      <th>tot_coll_amt</th>\n",
              "      <th>tot_cur_bal</th>\n",
              "      <th>total_rev_hi_lim</th>\n",
              "      <th>inq_fi</th>\n",
              "      <th>total_cu_tl</th>\n",
              "      <th>inq_last_12m</th>\n",
              "    </tr>\n",
              "  </thead>\n",
              "  <tbody>\n",
              "    <tr>\n",
              "      <th>0</th>\n",
              "      <td>5000</td>\n",
              "      <td>5000</td>\n",
              "      <td>4975.0</td>\n",
              "      <td>36 months</td>\n",
              "      <td>10.65</td>\n",
              "      <td>162.87</td>\n",
              "      <td>B</td>\n",
              "      <td>B2</td>\n",
              "      <td>0</td>\n",
              "      <td>10+ years</td>\n",
              "      <td>...</td>\n",
              "      <td>Jan-16</td>\n",
              "      <td>0.0</td>\n",
              "      <td>0.0</td>\n",
              "      <td>0.0</td>\n",
              "      <td>0.0</td>\n",
              "      <td>0.0</td>\n",
              "      <td>0.0</td>\n",
              "      <td>0.0</td>\n",
              "      <td>0.0</td>\n",
              "      <td>0.0</td>\n",
              "    </tr>\n",
              "    <tr>\n",
              "      <th>1</th>\n",
              "      <td>2500</td>\n",
              "      <td>2500</td>\n",
              "      <td>2500.0</td>\n",
              "      <td>60 months</td>\n",
              "      <td>15.27</td>\n",
              "      <td>59.83</td>\n",
              "      <td>C</td>\n",
              "      <td>C4</td>\n",
              "      <td>Ryder</td>\n",
              "      <td>&lt; 1 year</td>\n",
              "      <td>...</td>\n",
              "      <td>Sep-13</td>\n",
              "      <td>0.0</td>\n",
              "      <td>0.0</td>\n",
              "      <td>0.0</td>\n",
              "      <td>0.0</td>\n",
              "      <td>0.0</td>\n",
              "      <td>0.0</td>\n",
              "      <td>0.0</td>\n",
              "      <td>0.0</td>\n",
              "      <td>0.0</td>\n",
              "    </tr>\n",
              "    <tr>\n",
              "      <th>2</th>\n",
              "      <td>2400</td>\n",
              "      <td>2400</td>\n",
              "      <td>2400.0</td>\n",
              "      <td>36 months</td>\n",
              "      <td>15.96</td>\n",
              "      <td>84.33</td>\n",
              "      <td>C</td>\n",
              "      <td>C5</td>\n",
              "      <td>0</td>\n",
              "      <td>10+ years</td>\n",
              "      <td>...</td>\n",
              "      <td>Jan-16</td>\n",
              "      <td>0.0</td>\n",
              "      <td>0.0</td>\n",
              "      <td>0.0</td>\n",
              "      <td>0.0</td>\n",
              "      <td>0.0</td>\n",
              "      <td>0.0</td>\n",
              "      <td>0.0</td>\n",
              "      <td>0.0</td>\n",
              "      <td>0.0</td>\n",
              "    </tr>\n",
              "  </tbody>\n",
              "</table>\n",
              "<p>3 rows × 53 columns</p>\n",
              "</div>\n",
              "      <button class=\"colab-df-convert\" onclick=\"convertToInteractive('df-f0d8e3d0-bcbd-43cf-8aa6-2836e1674286')\"\n",
              "              title=\"Convert this dataframe to an interactive table.\"\n",
              "              style=\"display:none;\">\n",
              "        \n",
              "  <svg xmlns=\"http://www.w3.org/2000/svg\" height=\"24px\"viewBox=\"0 0 24 24\"\n",
              "       width=\"24px\">\n",
              "    <path d=\"M0 0h24v24H0V0z\" fill=\"none\"/>\n",
              "    <path d=\"M18.56 5.44l.94 2.06.94-2.06 2.06-.94-2.06-.94-.94-2.06-.94 2.06-2.06.94zm-11 1L8.5 8.5l.94-2.06 2.06-.94-2.06-.94L8.5 2.5l-.94 2.06-2.06.94zm10 10l.94 2.06.94-2.06 2.06-.94-2.06-.94-.94-2.06-.94 2.06-2.06.94z\"/><path d=\"M17.41 7.96l-1.37-1.37c-.4-.4-.92-.59-1.43-.59-.52 0-1.04.2-1.43.59L10.3 9.45l-7.72 7.72c-.78.78-.78 2.05 0 2.83L4 21.41c.39.39.9.59 1.41.59.51 0 1.02-.2 1.41-.59l7.78-7.78 2.81-2.81c.8-.78.8-2.07 0-2.86zM5.41 20L4 18.59l7.72-7.72 1.47 1.35L5.41 20z\"/>\n",
              "  </svg>\n",
              "      </button>\n",
              "      \n",
              "  <style>\n",
              "    .colab-df-container {\n",
              "      display:flex;\n",
              "      flex-wrap:wrap;\n",
              "      gap: 12px;\n",
              "    }\n",
              "\n",
              "    .colab-df-convert {\n",
              "      background-color: #E8F0FE;\n",
              "      border: none;\n",
              "      border-radius: 50%;\n",
              "      cursor: pointer;\n",
              "      display: none;\n",
              "      fill: #1967D2;\n",
              "      height: 32px;\n",
              "      padding: 0 0 0 0;\n",
              "      width: 32px;\n",
              "    }\n",
              "\n",
              "    .colab-df-convert:hover {\n",
              "      background-color: #E2EBFA;\n",
              "      box-shadow: 0px 1px 2px rgba(60, 64, 67, 0.3), 0px 1px 3px 1px rgba(60, 64, 67, 0.15);\n",
              "      fill: #174EA6;\n",
              "    }\n",
              "\n",
              "    [theme=dark] .colab-df-convert {\n",
              "      background-color: #3B4455;\n",
              "      fill: #D2E3FC;\n",
              "    }\n",
              "\n",
              "    [theme=dark] .colab-df-convert:hover {\n",
              "      background-color: #434B5C;\n",
              "      box-shadow: 0px 1px 3px 1px rgba(0, 0, 0, 0.15);\n",
              "      filter: drop-shadow(0px 1px 2px rgba(0, 0, 0, 0.3));\n",
              "      fill: #FFFFFF;\n",
              "    }\n",
              "  </style>\n",
              "\n",
              "      <script>\n",
              "        const buttonEl =\n",
              "          document.querySelector('#df-f0d8e3d0-bcbd-43cf-8aa6-2836e1674286 button.colab-df-convert');\n",
              "        buttonEl.style.display =\n",
              "          google.colab.kernel.accessAllowed ? 'block' : 'none';\n",
              "\n",
              "        async function convertToInteractive(key) {\n",
              "          const element = document.querySelector('#df-f0d8e3d0-bcbd-43cf-8aa6-2836e1674286');\n",
              "          const dataTable =\n",
              "            await google.colab.kernel.invokeFunction('convertToInteractive',\n",
              "                                                     [key], {});\n",
              "          if (!dataTable) return;\n",
              "\n",
              "          const docLinkHtml = 'Like what you see? Visit the ' +\n",
              "            '<a target=\"_blank\" href=https://colab.research.google.com/notebooks/data_table.ipynb>data table notebook</a>'\n",
              "            + ' to learn more about interactive tables.';\n",
              "          element.innerHTML = '';\n",
              "          dataTable['output_type'] = 'display_data';\n",
              "          await google.colab.output.renderOutput(dataTable, element);\n",
              "          const docLink = document.createElement('div');\n",
              "          docLink.innerHTML = docLinkHtml;\n",
              "          element.appendChild(docLink);\n",
              "        }\n",
              "      </script>\n",
              "    </div>\n",
              "  </div>\n",
              "  "
            ]
          },
          "metadata": {}
        }
      ]
    },
    {
      "cell_type": "code",
      "source": [
        "fix_columns = [\"emp_title\",\"term\",\"emp_length\",\"home_ownership\",\"verification_status\",\"pymnt_plan\",\"purpose\",\"title\",\"zip_code\",\"addr_state\",\"initial_list_status\",\"earliest_cr_line\",\"total_pymnt\"]"
      ],
      "metadata": {
        "id": "CY8PeIBJyh1H"
      },
      "execution_count": 13,
      "outputs": []
    },
    {
      "cell_type": "code",
      "source": [
        "for i in fix_columns:\n",
        "  print(\"Column : \",i)\n",
        "  display(df[i].value_counts())\n",
        "  print(\"#######################\")"
      ],
      "metadata": {
        "colab": {
          "base_uri": "https://localhost:8080/",
          "height": 1000
        },
        "id": "sbkmYKjtoGIQ",
        "outputId": "ad5f0c15-3c2b-4b40-fcc8-e355dfbf8396"
      },
      "execution_count": 14,
      "outputs": [
        {
          "output_type": "stream",
          "name": "stdout",
          "text": [
            "Column :  emp_title\n"
          ]
        },
        {
          "output_type": "display_data",
          "data": {
            "text/plain": [
              "0                                    27588\n",
              "Teacher                               5399\n",
              "Manager                               4438\n",
              "Registered Nurse                      2316\n",
              "RN                                    2204\n",
              "                                     ...  \n",
              "SEA Group, llc                           1\n",
              "The Eastern Arizona AHEC                 1\n",
              "Delaware Quarries.com                    1\n",
              "McCauley trucking and warehousing        1\n",
              "Server Engineer Lead                     1\n",
              "Name: emp_title, Length: 205476, dtype: int64"
            ]
          },
          "metadata": {}
        },
        {
          "output_type": "stream",
          "name": "stdout",
          "text": [
            "#######################\n",
            "Column :  term\n"
          ]
        },
        {
          "output_type": "display_data",
          "data": {
            "text/plain": [
              " 36 months    337953\n",
              " 60 months    128332\n",
              "Name: term, dtype: int64"
            ]
          },
          "metadata": {}
        },
        {
          "output_type": "stream",
          "name": "stdout",
          "text": [
            "#######################\n",
            "Column :  emp_length\n"
          ]
        },
        {
          "output_type": "display_data",
          "data": {
            "text/plain": [
              "10+ years    150049\n",
              "2 years       41373\n",
              "3 years       36596\n",
              "< 1 year      36265\n",
              "5 years       30774\n",
              "1 year        29622\n",
              "4 years       28023\n",
              "7 years       26180\n",
              "6 years       26112\n",
              "8 years       22395\n",
              "0             21008\n",
              "9 years       17888\n",
              "Name: emp_length, dtype: int64"
            ]
          },
          "metadata": {}
        },
        {
          "output_type": "stream",
          "name": "stdout",
          "text": [
            "#######################\n",
            "Column :  home_ownership\n"
          ]
        },
        {
          "output_type": "display_data",
          "data": {
            "text/plain": [
              "MORTGAGE    235875\n",
              "RENT        188473\n",
              "OWN          41704\n",
              "OTHER          182\n",
              "NONE            50\n",
              "ANY              1\n",
              "Name: home_ownership, dtype: int64"
            ]
          },
          "metadata": {}
        },
        {
          "output_type": "stream",
          "name": "stdout",
          "text": [
            "#######################\n",
            "Column :  verification_status\n"
          ]
        },
        {
          "output_type": "display_data",
          "data": {
            "text/plain": [
              "Verified           168055\n",
              "Source Verified    149993\n",
              "Not Verified       148237\n",
              "Name: verification_status, dtype: int64"
            ]
          },
          "metadata": {}
        },
        {
          "output_type": "stream",
          "name": "stdout",
          "text": [
            "#######################\n",
            "Column :  pymnt_plan\n"
          ]
        },
        {
          "output_type": "display_data",
          "data": {
            "text/plain": [
              "n    466276\n",
              "y         9\n",
              "Name: pymnt_plan, dtype: int64"
            ]
          },
          "metadata": {}
        },
        {
          "output_type": "stream",
          "name": "stdout",
          "text": [
            "#######################\n",
            "Column :  purpose\n"
          ]
        },
        {
          "output_type": "display_data",
          "data": {
            "text/plain": [
              "debt_consolidation    274195\n",
              "credit_card           104157\n",
              "home_improvement       26537\n",
              "other                  23690\n",
              "major_purchase          9828\n",
              "small_business          7013\n",
              "car                     5397\n",
              "medical                 4602\n",
              "moving                  2994\n",
              "vacation                2487\n",
              "wedding                 2343\n",
              "house                   2269\n",
              "educational              422\n",
              "renewable_energy         351\n",
              "Name: purpose, dtype: int64"
            ]
          },
          "metadata": {}
        },
        {
          "output_type": "stream",
          "name": "stdout",
          "text": [
            "#######################\n",
            "Column :  title\n"
          ]
        },
        {
          "output_type": "display_data",
          "data": {
            "text/plain": [
              "Debt consolidation                   164075\n",
              "Credit card refinancing               62275\n",
              "Debt Consolidation                    15760\n",
              "Home improvement                      14849\n",
              "Other                                 12713\n",
              "                                      ...  \n",
              "Credit Card Clearance                     1\n",
              "credit repayment                          1\n",
              "medical bills/credit card payoff          1\n",
              "One Time Only Relief!                     1\n",
              "Paying off the car and some bills         1\n",
              "Name: title, Length: 63100, dtype: int64"
            ]
          },
          "metadata": {}
        },
        {
          "output_type": "stream",
          "name": "stdout",
          "text": [
            "#######################\n",
            "Column :  zip_code\n"
          ]
        },
        {
          "output_type": "display_data",
          "data": {
            "text/plain": [
              "945xx    5304\n",
              "112xx    5102\n",
              "750xx    5013\n",
              "606xx    4696\n",
              "100xx    4391\n",
              "         ... \n",
              "204xx       1\n",
              "502xx       1\n",
              "514xx       1\n",
              "049xx       1\n",
              "901xx       1\n",
              "Name: zip_code, Length: 888, dtype: int64"
            ]
          },
          "metadata": {}
        },
        {
          "output_type": "stream",
          "name": "stdout",
          "text": [
            "#######################\n",
            "Column :  addr_state\n"
          ]
        },
        {
          "output_type": "display_data",
          "data": {
            "text/plain": [
              "CA    71450\n",
              "NY    40242\n",
              "TX    36439\n",
              "FL    31637\n",
              "IL    18612\n",
              "NJ    18061\n",
              "PA    16424\n",
              "OH    15237\n",
              "GA    14975\n",
              "VA    14222\n",
              "NC    12682\n",
              "MI    11549\n",
              "MA    11072\n",
              "MD    10974\n",
              "AZ    10712\n",
              "WA    10517\n",
              "CO     9739\n",
              "MN     8158\n",
              "MO     7508\n",
              "CT     7204\n",
              "IN     6525\n",
              "NV     6519\n",
              "TN     5984\n",
              "OR     5949\n",
              "WI     5911\n",
              "AL     5853\n",
              "SC     5583\n",
              "LA     5489\n",
              "KY     4438\n",
              "KS     4190\n",
              "OK     4117\n",
              "AR     3488\n",
              "UT     3428\n",
              "NM     2588\n",
              "HI     2487\n",
              "WV     2412\n",
              "NH     2232\n",
              "RI     2050\n",
              "DC     1426\n",
              "MT     1396\n",
              "DE     1272\n",
              "AK     1251\n",
              "MS     1226\n",
              "WY     1128\n",
              "SD      980\n",
              "VT      905\n",
              "IA       14\n",
              "NE       14\n",
              "ID       12\n",
              "ME        4\n",
              "Name: addr_state, dtype: int64"
            ]
          },
          "metadata": {}
        },
        {
          "output_type": "stream",
          "name": "stdout",
          "text": [
            "#######################\n",
            "Column :  initial_list_status\n"
          ]
        },
        {
          "output_type": "display_data",
          "data": {
            "text/plain": [
              "f    303005\n",
              "w    163280\n",
              "Name: initial_list_status, dtype: int64"
            ]
          },
          "metadata": {}
        },
        {
          "output_type": "stream",
          "name": "stdout",
          "text": [
            "#######################\n",
            "Column :  earliest_cr_line\n"
          ]
        },
        {
          "output_type": "display_data",
          "data": {
            "text/plain": [
              "Oct-00    3674\n",
              "Aug-00    3597\n",
              "Aug-01    3455\n",
              "Oct-99    3406\n",
              "Oct-01    3329\n",
              "          ... \n",
              "Jul-55       1\n",
              "Feb-57       1\n",
              "Oct-54       1\n",
              "May-53       1\n",
              "Nov-56       1\n",
              "Name: earliest_cr_line, Length: 665, dtype: int64"
            ]
          },
          "metadata": {}
        },
        {
          "output_type": "stream",
          "name": "stdout",
          "text": [
            "#######################\n",
            "Column :  total_pymnt\n"
          ]
        },
        {
          "output_type": "display_data",
          "data": {
            "text/plain": [
              "6743.730000     117\n",
              "0.000000         87\n",
              "5564.780000      78\n",
              "5497.460000      75\n",
              "5419.430000      75\n",
              "               ... \n",
              "6307.496889       1\n",
              "4271.330000       1\n",
              "10706.700000      1\n",
              "21385.730000      1\n",
              "8821.620000       1\n",
              "Name: total_pymnt, Length: 351609, dtype: int64"
            ]
          },
          "metadata": {}
        },
        {
          "output_type": "stream",
          "name": "stdout",
          "text": [
            "#######################\n"
          ]
        }
      ]
    },
    {
      "cell_type": "code",
      "source": [
        "# data consisted of string and int\n",
        "df[\"emp_title\"] = df[\"emp_title\"].replace(0, 'E')"
      ],
      "metadata": {
        "id": "CsCn7_uo0c5r"
      },
      "execution_count": 15,
      "outputs": []
    },
    {
      "cell_type": "code",
      "source": [
        "from sklearn import preprocessing\n",
        "le = preprocessing.LabelEncoder()\n",
        "labels = le.fit_transform(df[\"emp_title\"])\n",
        "df[\"emp_title\"] = labels\n",
        "print(df[\"emp_title\"].value_counts())"
      ],
      "metadata": {
        "colab": {
          "base_uri": "https://localhost:8080/"
        },
        "id": "ANGW7SJ7qNKC",
        "outputId": "e3f73376-cf6b-443b-99c8-01567ebed728"
      },
      "execution_count": 16,
      "outputs": [
        {
          "output_type": "stream",
          "name": "stdout",
          "text": [
            "50966     27588\n",
            "155553     5399\n",
            "94532      4438\n",
            "128183     2316\n",
            "125478     2204\n",
            "          ...  \n",
            "132498        1\n",
            "158132        1\n",
            "43946         1\n",
            "97597         1\n",
            "141074        1\n",
            "Name: emp_title, Length: 205476, dtype: int64\n"
          ]
        }
      ]
    },
    {
      "cell_type": "code",
      "source": [
        "df[\"term\"] = df[\"term\"].replace(\" 36 months\", 36)\n",
        "df[\"term\"] = df[\"term\"].replace(\" 60 months\", 60)\n",
        "print(df[\"term\"].value_counts())"
      ],
      "metadata": {
        "colab": {
          "base_uri": "https://localhost:8080/"
        },
        "id": "WE9op65tqNMz",
        "outputId": "d023caba-9864-402d-fa3d-56cb9e1eea7f"
      },
      "execution_count": 17,
      "outputs": [
        {
          "output_type": "stream",
          "name": "stdout",
          "text": [
            "36    337953\n",
            "60    128332\n",
            "Name: term, dtype: int64\n"
          ]
        }
      ]
    },
    {
      "cell_type": "code",
      "source": [
        "df[\"emp_length\"].unique()"
      ],
      "metadata": {
        "colab": {
          "base_uri": "https://localhost:8080/"
        },
        "id": "ymTuOS4vqmsS",
        "outputId": "33acd509-c6d8-47db-a291-99570b07bb87"
      },
      "execution_count": 18,
      "outputs": [
        {
          "output_type": "execute_result",
          "data": {
            "text/plain": [
              "array(['10+ years', '< 1 year', '1 year', '3 years', '8 years', '9 years',\n",
              "       '4 years', '5 years', '6 years', '2 years', '7 years', 0],\n",
              "      dtype=object)"
            ]
          },
          "metadata": {},
          "execution_count": 18
        }
      ]
    },
    {
      "cell_type": "code",
      "source": [
        "df[\"emp_length\"] = df[\"emp_length\"].replace(\"10+ years\", 10)\n",
        "df[\"emp_length\"] = df[\"emp_length\"].replace(\"< 1 year\", 0.9)\n",
        "df[\"emp_length\"] = df[\"emp_length\"].replace(\"1 year\", 1)\n",
        "df[\"emp_length\"] = df[\"emp_length\"].replace(\"3 years\", 3)\n",
        "df[\"emp_length\"] = df[\"emp_length\"].replace(\"8 years\", 8)\n",
        "df[\"emp_length\"] = df[\"emp_length\"].replace(\"9 years\", 9)\n",
        "df[\"emp_length\"] = df[\"emp_length\"].replace(\"4 years\", 4)\n",
        "df[\"emp_length\"] = df[\"emp_length\"].replace(\"5 years\", 5)\n",
        "df[\"emp_length\"] = df[\"emp_length\"].replace(\"6 years\", 6)\n",
        "df[\"emp_length\"] = df[\"emp_length\"].replace(\"2 years\", 2)\n",
        "df[\"emp_length\"] = df[\"emp_length\"].replace(\"7 years\", 7)\n",
        "print(df[\"emp_length\"].value_counts())"
      ],
      "metadata": {
        "colab": {
          "base_uri": "https://localhost:8080/"
        },
        "id": "iyXLHbXQrEWH",
        "outputId": "d9cef904-f101-4bc2-9696-519a3916bb6b"
      },
      "execution_count": 19,
      "outputs": [
        {
          "output_type": "stream",
          "name": "stdout",
          "text": [
            "10.0    150049\n",
            "2.0      41373\n",
            "3.0      36596\n",
            "0.9      36265\n",
            "5.0      30774\n",
            "1.0      29622\n",
            "4.0      28023\n",
            "7.0      26180\n",
            "6.0      26112\n",
            "8.0      22395\n",
            "0.0      21008\n",
            "9.0      17888\n",
            "Name: emp_length, dtype: int64\n"
          ]
        }
      ]
    },
    {
      "cell_type": "code",
      "source": [
        "#print(df[\"home_ownership\"].value_counts())\n",
        "\n",
        "#from sklearn import preprocessing\n",
        "#le = preprocessing.LabelEncoder()\n",
        "labels = le.fit_transform(df[\"home_ownership\"])\n",
        "df[\"home_ownership\"] = labels\n",
        "print(df[\"home_ownership\"].value_counts())"
      ],
      "metadata": {
        "colab": {
          "base_uri": "https://localhost:8080/"
        },
        "id": "n1kcRaXMsQWy",
        "outputId": "95aa5c41-82cc-4e34-8bf2-56caabc38f5d"
      },
      "execution_count": 20,
      "outputs": [
        {
          "output_type": "stream",
          "name": "stdout",
          "text": [
            "1    235875\n",
            "5    188473\n",
            "4     41704\n",
            "3       182\n",
            "2        50\n",
            "0         1\n",
            "Name: home_ownership, dtype: int64\n"
          ]
        }
      ]
    },
    {
      "cell_type": "code",
      "source": [
        "#print(df[\"verification_status\"].value_counts())\n",
        "\n",
        "#from sklearn import preprocessing\n",
        "#le = preprocessing.LabelEncoder()\n",
        "labels = le.fit_transform(df[\"verification_status\"])\n",
        "df[\"verification_status\"] = labels\n",
        "print(df[\"verification_status\"].value_counts())"
      ],
      "metadata": {
        "colab": {
          "base_uri": "https://localhost:8080/"
        },
        "id": "CsjfltPlti74",
        "outputId": "a1fb2944-8031-4a77-8c80-506a89f8f7f1"
      },
      "execution_count": 21,
      "outputs": [
        {
          "output_type": "stream",
          "name": "stdout",
          "text": [
            "2    168055\n",
            "1    149993\n",
            "0    148237\n",
            "Name: verification_status, dtype: int64\n"
          ]
        }
      ]
    },
    {
      "cell_type": "code",
      "source": [
        "print(df[\"pymnt_plan\"].unique())\n",
        "df[\"pymnt_plan\"] = df[\"pymnt_plan\"].replace(\"n\", 0)\n",
        "df[\"pymnt_plan\"] = df[\"pymnt_plan\"].replace(\"y\", 1)\n",
        "print(df[\"pymnt_plan\"].unique())"
      ],
      "metadata": {
        "colab": {
          "base_uri": "https://localhost:8080/"
        },
        "id": "Bwv6MMLst7OE",
        "outputId": "00fd8300-0bc9-422b-b329-e886e2ef4686"
      },
      "execution_count": 22,
      "outputs": [
        {
          "output_type": "stream",
          "name": "stdout",
          "text": [
            "['n' 'y']\n",
            "[0 1]\n"
          ]
        }
      ]
    },
    {
      "cell_type": "code",
      "source": [
        "#print(df[\"purpose\"].value_counts())\n",
        "\n",
        "#from sklearn import preprocessing\n",
        "#le = preprocessing.LabelEncoder()\n",
        "labels = le.fit_transform(df[\"purpose\"])\n",
        "df[\"purpose\"] = labels\n",
        "print(df[\"purpose\"].value_counts())"
      ],
      "metadata": {
        "colab": {
          "base_uri": "https://localhost:8080/"
        },
        "id": "9xbtq4CDuEAW",
        "outputId": "ebfd6b65-51a0-4c01-d502-3653e57290ad"
      },
      "execution_count": 23,
      "outputs": [
        {
          "output_type": "stream",
          "name": "stdout",
          "text": [
            "2     274195\n",
            "1     104157\n",
            "4      26537\n",
            "9      23690\n",
            "6       9828\n",
            "11      7013\n",
            "0       5397\n",
            "7       4602\n",
            "8       2994\n",
            "12      2487\n",
            "13      2343\n",
            "5       2269\n",
            "3        422\n",
            "10       351\n",
            "Name: purpose, dtype: int64\n"
          ]
        }
      ]
    },
    {
      "cell_type": "code",
      "source": [
        "print(df[\"title\"].value_counts())"
      ],
      "metadata": {
        "colab": {
          "base_uri": "https://localhost:8080/"
        },
        "id": "D-SrwDNry_uZ",
        "outputId": "f75e86d6-6160-4fd2-bf0f-576313ab38fb"
      },
      "execution_count": 24,
      "outputs": [
        {
          "output_type": "stream",
          "name": "stdout",
          "text": [
            "Debt consolidation                   164075\n",
            "Credit card refinancing               62275\n",
            "Debt Consolidation                    15760\n",
            "Home improvement                      14849\n",
            "Other                                 12713\n",
            "                                      ...  \n",
            "Credit Card Clearance                     1\n",
            "credit repayment                          1\n",
            "medical bills/credit card payoff          1\n",
            "One Time Only Relief!                     1\n",
            "Paying off the car and some bills         1\n",
            "Name: title, Length: 63100, dtype: int64\n"
          ]
        }
      ]
    },
    {
      "cell_type": "code",
      "source": [
        "#for i in df[\"title\"]:\n",
        "#  if type(i) == int:\n",
        "#    print(i)"
      ],
      "metadata": {
        "id": "ywhSIL61y_xQ"
      },
      "execution_count": 25,
      "outputs": []
    },
    {
      "cell_type": "code",
      "source": [
        "# data consisted of string and int\n",
        "df[\"title\"] = df[\"title\"].replace(0, 'a')\n",
        "\n",
        "labels = le.fit_transform(df[\"title\"])\n",
        "df[\"title\"] = labels\n",
        "#print(df[\"title\"].value_counts())"
      ],
      "metadata": {
        "id": "ficVHoCR2iD8"
      },
      "execution_count": 26,
      "outputs": []
    },
    {
      "cell_type": "code",
      "source": [
        "# removing xx\n",
        "print(df['zip_code'][1])\n",
        "df['zip_code'] = df['zip_code'].str.replace(r'xx', '')\n",
        "print(df['zip_code'][1])"
      ],
      "metadata": {
        "colab": {
          "base_uri": "https://localhost:8080/"
        },
        "id": "2c81l_yC2Fst",
        "outputId": "f8a6eb77-7138-4e83-c8b0-27650a2ae2e8"
      },
      "execution_count": 27,
      "outputs": [
        {
          "output_type": "stream",
          "name": "stdout",
          "text": [
            "309xx\n",
            "309\n"
          ]
        }
      ]
    },
    {
      "cell_type": "code",
      "source": [
        "labels = le.fit_transform(df[\"addr_state\"])\n",
        "df[\"addr_state\"] = labels\n",
        "#print(df[\"addr_state\"].value_counts())"
      ],
      "metadata": {
        "id": "QO7alp_n2F0M"
      },
      "execution_count": 28,
      "outputs": []
    },
    {
      "cell_type": "code",
      "source": [
        "print(df[\"initial_list_status\"].value_counts())\n",
        "df[\"initial_list_status\"] = df[\"initial_list_status\"].replace(\"f\", 0)\n",
        "df[\"initial_list_status\"] = df[\"initial_list_status\"].replace(\"w\", 1)\n",
        "print(df[\"initial_list_status\"].value_counts())"
      ],
      "metadata": {
        "colab": {
          "base_uri": "https://localhost:8080/"
        },
        "id": "DdokD5iOu8xW",
        "outputId": "f0b9de3f-cd1f-4468-ca94-f718bcb2cc51"
      },
      "execution_count": 29,
      "outputs": [
        {
          "output_type": "stream",
          "name": "stdout",
          "text": [
            "f    303005\n",
            "w    163280\n",
            "Name: initial_list_status, dtype: int64\n",
            "0    303005\n",
            "1    163280\n",
            "Name: initial_list_status, dtype: int64\n"
          ]
        }
      ]
    },
    {
      "cell_type": "code",
      "source": [
        "#print(df[\"earliest_cr_line\"].unique())\n",
        "df['earliest_cr_line'] = df['earliest_cr_line'].map(lambda x: str(x)[:3])\n",
        "df[\"earliest_cr_line\"] = df[\"earliest_cr_line\"].replace(0, 'E')\n",
        "print(df[\"earliest_cr_line\"].unique())"
      ],
      "metadata": {
        "colab": {
          "base_uri": "https://localhost:8080/"
        },
        "id": "xChNlSrXvZHP",
        "outputId": "25c548aa-8be9-4ad9-a1d7-86c3a7acd5fe"
      },
      "execution_count": 30,
      "outputs": [
        {
          "output_type": "stream",
          "name": "stdout",
          "text": [
            "['Jan' 'Apr' 'Nov' 'Feb' 'Jul' 'Sep' 'Oct' 'May' 'Aug' 'Jun' 'Dec' 'Mar'\n",
            " '0']\n"
          ]
        }
      ]
    },
    {
      "cell_type": "code",
      "source": [
        "print(df[\"total_pymnt\"][1])\n",
        "df[\"total_pymnt\"] = round(df[\"total_pymnt\"], 1)\n",
        "print(df[\"total_pymnt\"][1])"
      ],
      "metadata": {
        "colab": {
          "base_uri": "https://localhost:8080/"
        },
        "id": "rYzlBilquv3x",
        "outputId": "bb912a3c-653b-43fd-eeea-9530b0a8e9d3"
      },
      "execution_count": 31,
      "outputs": [
        {
          "output_type": "stream",
          "name": "stdout",
          "text": [
            "1008.71\n",
            "1008.7\n"
          ]
        }
      ]
    },
    {
      "cell_type": "code",
      "source": [
        "print(df[\"funded_amnt_inv\"][1])\n",
        "df[\"funded_amnt_inv\"] = round(df[\"funded_amnt_inv\"], 1)\n",
        "print(df[\"funded_amnt_inv\"][1])"
      ],
      "metadata": {
        "colab": {
          "base_uri": "https://localhost:8080/"
        },
        "id": "tOeLqv35_Uyq",
        "outputId": "26f12cac-8673-4a78-82bc-083aa50e991b"
      },
      "execution_count": 32,
      "outputs": [
        {
          "output_type": "stream",
          "name": "stdout",
          "text": [
            "2500.0\n",
            "2500.0\n"
          ]
        }
      ]
    },
    {
      "cell_type": "code",
      "source": [
        "labels = le.fit_transform(df[\"grade\"])\n",
        "df[\"grade\"] = labels\n",
        "print(df[\"grade\"].value_counts())"
      ],
      "metadata": {
        "colab": {
          "base_uri": "https://localhost:8080/"
        },
        "id": "9nBINTZd_qBC",
        "outputId": "70defe92-1788-4d74-8ce1-03b537890eb4"
      },
      "execution_count": 33,
      "outputs": [
        {
          "output_type": "stream",
          "name": "stdout",
          "text": [
            "1    136929\n",
            "2    125293\n",
            "3     76888\n",
            "0     74867\n",
            "4     35757\n",
            "5     13229\n",
            "6      3322\n",
            "Name: grade, dtype: int64\n"
          ]
        }
      ]
    },
    {
      "cell_type": "code",
      "source": [
        "labels = le.fit_transform(df[\"sub_grade\"])\n",
        "df[\"sub_grade\"] = labels\n",
        "#print(df[\"sub_grade\"].value_counts())"
      ],
      "metadata": {
        "id": "5RjM_gtU_8LT"
      },
      "execution_count": 34,
      "outputs": []
    },
    {
      "cell_type": "code",
      "source": [
        "labels = le.fit_transform(df[\"earliest_cr_line\"])\n",
        "df[\"earliest_cr_line\"] = labels\n",
        "print(df[\"earliest_cr_line\"].value_counts())"
      ],
      "metadata": {
        "colab": {
          "base_uri": "https://localhost:8080/"
        },
        "id": "jLFwPgG0AKVA",
        "outputId": "c379e3ca-cac5-4646-88df-e721db596eb6"
      },
      "execution_count": 35,
      "outputs": [
        {
          "output_type": "stream",
          "name": "stdout",
          "text": [
            "11    45592\n",
            "12    44184\n",
            "2     43486\n",
            "10    42115\n",
            "3     40063\n",
            "6     37266\n",
            "8     36975\n",
            "5     36657\n",
            "9     35877\n",
            "7     35768\n",
            "1     34212\n",
            "4     34061\n",
            "0        29\n",
            "Name: earliest_cr_line, dtype: int64\n"
          ]
        }
      ]
    },
    {
      "cell_type": "code",
      "source": [
        "df['last_pymnt_d'] = df['last_pymnt_d'].map(lambda x: str(x)[:3])\n",
        "df[\"last_pymnt_d\"] = df[\"last_pymnt_d\"].replace(0, 'E')\n",
        "print(df[\"last_pymnt_d\"].unique())"
      ],
      "metadata": {
        "colab": {
          "base_uri": "https://localhost:8080/"
        },
        "id": "ihOGya6dAbRo",
        "outputId": "a3b0525c-a3ba-4ac3-a081-9fe4a29b9c1e"
      },
      "execution_count": 36,
      "outputs": [
        {
          "output_type": "stream",
          "name": "stdout",
          "text": [
            "['Jan' 'Apr' 'Jun' 'Nov' 'Sep' 'Jul' 'Oct' 'May' 'Feb' 'Aug' '0' 'Dec'\n",
            " 'Mar']\n"
          ]
        }
      ]
    },
    {
      "cell_type": "code",
      "source": [
        "labels = le.fit_transform(df[\"last_pymnt_d\"])\n",
        "df[\"last_pymnt_d\"] = labels\n",
        "print(df[\"last_pymnt_d\"].value_counts())"
      ],
      "metadata": {
        "colab": {
          "base_uri": "https://localhost:8080/"
        },
        "id": "512mINsdAbgo",
        "outputId": "7d0bd930-c5e5-4a76-c9ac-8f615074ab3d"
      },
      "execution_count": 37,
      "outputs": [
        {
          "output_type": "stream",
          "name": "stdout",
          "text": [
            "5     194421\n",
            "3      74567\n",
            "11     23938\n",
            "6      22182\n",
            "12     20956\n",
            "2      20667\n",
            "10     20239\n",
            "7      19221\n",
            "8      18540\n",
            "9      18076\n",
            "1      17907\n",
            "4      15195\n",
            "0        376\n",
            "Name: last_pymnt_d, dtype: int64\n"
          ]
        }
      ]
    },
    {
      "cell_type": "code",
      "source": [
        "df['next_pymnt_d'] = df['next_pymnt_d'].map(lambda x: str(x)[:3])\n",
        "df[\"next_pymnt_d\"] = df[\"next_pymnt_d\"].replace(0, 'E')\n",
        "print(df[\"next_pymnt_d\"].unique())\n",
        "print()\n",
        "labels = le.fit_transform(df[\"next_pymnt_d\"])\n",
        "df[\"next_pymnt_d\"] = labels\n",
        "print(df[\"next_pymnt_d\"].value_counts())"
      ],
      "metadata": {
        "colab": {
          "base_uri": "https://localhost:8080/"
        },
        "id": "3NyD6fQsA_D4",
        "outputId": "64420bd6-f2e3-4c60-e612-86cdafd64c43"
      },
      "execution_count": 38,
      "outputs": [
        {
          "output_type": "stream",
          "name": "stdout",
          "text": [
            "['0' 'Feb' 'Jan' 'Sep' 'May' 'Jun' 'Mar' 'Apr' 'Aug' 'Nov' 'Oct' 'Jul'\n",
            " 'Dec']\n",
            "\n",
            "0     227214\n",
            "4     208602\n",
            "5      28134\n",
            "3        286\n",
            "8        284\n",
            "11       251\n",
            "1        248\n",
            "9        234\n",
            "10       228\n",
            "2        217\n",
            "12       205\n",
            "7        198\n",
            "6        184\n",
            "Name: next_pymnt_d, dtype: int64\n"
          ]
        }
      ]
    },
    {
      "cell_type": "code",
      "source": [
        "df['last_credit_pull_d'] = df['last_credit_pull_d'].map(lambda x: str(x)[:3])\n",
        "df[\"last_credit_pull_d\"] = df[\"last_credit_pull_d\"].replace(0, 'E')\n",
        "print(df[\"last_credit_pull_d\"].unique())\n",
        "print()\n",
        "labels = le.fit_transform(df[\"last_credit_pull_d\"])\n",
        "df[\"last_credit_pull_d\"] = labels\n",
        "print(df[\"last_credit_pull_d\"].value_counts())"
      ],
      "metadata": {
        "colab": {
          "base_uri": "https://localhost:8080/"
        },
        "id": "I3V_8KBoA_Mv",
        "outputId": "1e0f34b1-1775-4cb1-a841-852b91f7e85b"
      },
      "execution_count": 39,
      "outputs": [
        {
          "output_type": "stream",
          "name": "stdout",
          "text": [
            "['Jan' 'Sep' 'Dec' 'Aug' 'Mar' 'Nov' 'Apr' 'May' 'Jul' 'Oct' 'Jun' 'Feb'\n",
            " '0']\n",
            "\n",
            "5     335246\n",
            "3      20172\n",
            "10     13950\n",
            "11     13465\n",
            "12     12940\n",
            "6      11877\n",
            "2      11382\n",
            "7       9987\n",
            "8       9557\n",
            "1       9374\n",
            "9       9344\n",
            "4       8949\n",
            "0         42\n",
            "Name: last_credit_pull_d, dtype: int64\n"
          ]
        }
      ]
    },
    {
      "cell_type": "code",
      "source": [
        "dropp = [\"inq_fi\",\"total_cu_tl\",\"inq_last_12m\"]\n",
        "df = df.drop(dropp, 1)\n",
        "#display(df.head(3))"
      ],
      "metadata": {
        "id": "NCCN1bHqCIkG",
        "colab": {
          "base_uri": "https://localhost:8080/"
        },
        "outputId": "3e112ddd-0bfd-4e02-eead-5711c24f04fe"
      },
      "execution_count": 40,
      "outputs": [
        {
          "output_type": "stream",
          "name": "stderr",
          "text": [
            "/usr/local/lib/python3.7/dist-packages/ipykernel_launcher.py:2: FutureWarning: In a future version of pandas all arguments of DataFrame.drop except for the argument 'labels' will be keyword-only\n",
            "  \n"
          ]
        }
      ]
    },
    {
      "cell_type": "code",
      "source": [
        "############# preprocessing done ############"
      ],
      "metadata": {
        "id": "liVzegDgu6-z"
      },
      "execution_count": 41,
      "outputs": []
    },
    {
      "cell_type": "code",
      "source": [
        "# lets check\n",
        "columns = df.columns\n",
        "for i in columns:\n",
        "  print(\"Column : \",i)\n",
        "  display(df[i].value_counts())\n",
        "  print(\"#######################\")"
      ],
      "metadata": {
        "colab": {
          "base_uri": "https://localhost:8080/",
          "height": 1000
        },
        "id": "9aWM_KNS-M_2",
        "outputId": "26d4f93b-7f44-4810-b488-07e98829c60d"
      },
      "execution_count": 42,
      "outputs": [
        {
          "output_type": "stream",
          "name": "stdout",
          "text": [
            "Column :  loan_amnt\n"
          ]
        },
        {
          "output_type": "display_data",
          "data": {
            "text/plain": [
              "10000    33023\n",
              "12000    25519\n",
              "15000    23486\n",
              "20000    22759\n",
              "35000    16596\n",
              "         ...  \n",
              "34250        1\n",
              "33400        1\n",
              "32150        1\n",
              "34325        1\n",
              "33175        1\n",
              "Name: loan_amnt, Length: 1352, dtype: int64"
            ]
          },
          "metadata": {}
        },
        {
          "output_type": "stream",
          "name": "stdout",
          "text": [
            "#######################\n",
            "Column :  funded_amnt\n"
          ]
        },
        {
          "output_type": "display_data",
          "data": {
            "text/plain": [
              "10000    32930\n",
              "12000    25426\n",
              "15000    23370\n",
              "20000    22571\n",
              "35000    16458\n",
              "         ...  \n",
              "34075        1\n",
              "31475        1\n",
              "33400        1\n",
              "34825        1\n",
              "34775        1\n",
              "Name: funded_amnt, Length: 1354, dtype: int64"
            ]
          },
          "metadata": {}
        },
        {
          "output_type": "stream",
          "name": "stdout",
          "text": [
            "#######################\n",
            "Column :  funded_amnt_inv\n"
          ]
        },
        {
          "output_type": "display_data",
          "data": {
            "text/plain": [
              "10000.0    28684\n",
              "12000.0    21732\n",
              "15000.0    19475\n",
              "20000.0    18070\n",
              "8000.0     13233\n",
              "           ...  \n",
              "9451.7         1\n",
              "12362.3        1\n",
              "5958.5         1\n",
              "27730.2        1\n",
              "10444.4        1\n",
              "Name: funded_amnt_inv, Length: 9031, dtype: int64"
            ]
          },
          "metadata": {}
        },
        {
          "output_type": "stream",
          "name": "stdout",
          "text": [
            "#######################\n",
            "Column :  term\n"
          ]
        },
        {
          "output_type": "display_data",
          "data": {
            "text/plain": [
              "36    337953\n",
              "60    128332\n",
              "Name: term, dtype: int64"
            ]
          },
          "metadata": {}
        },
        {
          "output_type": "stream",
          "name": "stdout",
          "text": [
            "#######################\n",
            "Column :  int_rate\n"
          ]
        },
        {
          "output_type": "display_data",
          "data": {
            "text/plain": [
              "12.99    15846\n",
              "10.99    14837\n",
              "15.61    13074\n",
              "8.90     11424\n",
              "16.29    10587\n",
              "         ...  \n",
              "24.40        1\n",
              "16.83        1\n",
              "17.78        1\n",
              "24.59        1\n",
              "18.72        1\n",
              "Name: int_rate, Length: 506, dtype: int64"
            ]
          },
          "metadata": {}
        },
        {
          "output_type": "stream",
          "name": "stdout",
          "text": [
            "#######################\n",
            "Column :  installment\n"
          ]
        },
        {
          "output_type": "display_data",
          "data": {
            "text/plain": [
              "327.34    1246\n",
              "336.90    1191\n",
              "332.10     978\n",
              "491.01     881\n",
              "392.81     855\n",
              "          ... \n",
              "73.19        1\n",
              "121.53       1\n",
              "776.65       1\n",
              "311.25       1\n",
              "217.65       1\n",
              "Name: installment, Length: 55622, dtype: int64"
            ]
          },
          "metadata": {}
        },
        {
          "output_type": "stream",
          "name": "stdout",
          "text": [
            "#######################\n",
            "Column :  grade\n"
          ]
        },
        {
          "output_type": "display_data",
          "data": {
            "text/plain": [
              "1    136929\n",
              "2    125293\n",
              "3     76888\n",
              "0     74867\n",
              "4     35757\n",
              "5     13229\n",
              "6      3322\n",
              "Name: grade, dtype: int64"
            ]
          },
          "metadata": {}
        },
        {
          "output_type": "stream",
          "name": "stdout",
          "text": [
            "#######################\n",
            "Column :  sub_grade\n"
          ]
        },
        {
          "output_type": "display_data",
          "data": {
            "text/plain": [
              "7     31686\n",
              "8     30505\n",
              "10    26953\n",
              "11    26740\n",
              "6     26610\n",
              "12    25317\n",
              "9     25252\n",
              "13    24105\n",
              "5     22876\n",
              "14    22178\n",
              "4     21757\n",
              "15    19261\n",
              "3     19045\n",
              "16    17046\n",
              "17    14916\n",
              "18    14099\n",
              "2     12568\n",
              "19    11566\n",
              "1     10956\n",
              "0     10541\n",
              "20     9033\n",
              "21     8669\n",
              "22     6976\n",
              "23     5992\n",
              "24     5087\n",
              "25     3940\n",
              "26     3001\n",
              "27     2708\n",
              "28     2067\n",
              "29     1513\n",
              "30     1109\n",
              "31      823\n",
              "32      583\n",
              "33      422\n",
              "34      385\n",
              "Name: sub_grade, dtype: int64"
            ]
          },
          "metadata": {}
        },
        {
          "output_type": "stream",
          "name": "stdout",
          "text": [
            "#######################\n",
            "Column :  emp_title\n"
          ]
        },
        {
          "output_type": "display_data",
          "data": {
            "text/plain": [
              "50966     27588\n",
              "155553     5399\n",
              "94532      4438\n",
              "128183     2316\n",
              "125478     2204\n",
              "          ...  \n",
              "132498        1\n",
              "158132        1\n",
              "43946         1\n",
              "97597         1\n",
              "141074        1\n",
              "Name: emp_title, Length: 205476, dtype: int64"
            ]
          },
          "metadata": {}
        },
        {
          "output_type": "stream",
          "name": "stdout",
          "text": [
            "#######################\n",
            "Column :  emp_length\n"
          ]
        },
        {
          "output_type": "display_data",
          "data": {
            "text/plain": [
              "10.0    150049\n",
              "2.0      41373\n",
              "3.0      36596\n",
              "0.9      36265\n",
              "5.0      30774\n",
              "1.0      29622\n",
              "4.0      28023\n",
              "7.0      26180\n",
              "6.0      26112\n",
              "8.0      22395\n",
              "0.0      21008\n",
              "9.0      17888\n",
              "Name: emp_length, dtype: int64"
            ]
          },
          "metadata": {}
        },
        {
          "output_type": "stream",
          "name": "stdout",
          "text": [
            "#######################\n",
            "Column :  home_ownership\n"
          ]
        },
        {
          "output_type": "display_data",
          "data": {
            "text/plain": [
              "1    235875\n",
              "5    188473\n",
              "4     41704\n",
              "3       182\n",
              "2        50\n",
              "0         1\n",
              "Name: home_ownership, dtype: int64"
            ]
          },
          "metadata": {}
        },
        {
          "output_type": "stream",
          "name": "stdout",
          "text": [
            "#######################\n",
            "Column :  annual_inc\n"
          ]
        },
        {
          "output_type": "display_data",
          "data": {
            "text/plain": [
              "60000.0     17980\n",
              "50000.0     15949\n",
              "65000.0     13211\n",
              "40000.0     12864\n",
              "70000.0     12436\n",
              "            ...  \n",
              "93548.0         1\n",
              "80840.0         1\n",
              "257100.0        1\n",
              "91660.0         1\n",
              "72787.0         1\n",
              "Name: annual_inc, Length: 31902, dtype: int64"
            ]
          },
          "metadata": {}
        },
        {
          "output_type": "stream",
          "name": "stdout",
          "text": [
            "#######################\n",
            "Column :  verification_status\n"
          ]
        },
        {
          "output_type": "display_data",
          "data": {
            "text/plain": [
              "2    168055\n",
              "1    149993\n",
              "0    148237\n",
              "Name: verification_status, dtype: int64"
            ]
          },
          "metadata": {}
        },
        {
          "output_type": "stream",
          "name": "stdout",
          "text": [
            "#######################\n",
            "Column :  loan_status\n"
          ]
        },
        {
          "output_type": "display_data",
          "data": {
            "text/plain": [
              "1    414099\n",
              "0     52186\n",
              "Name: loan_status, dtype: int64"
            ]
          },
          "metadata": {}
        },
        {
          "output_type": "stream",
          "name": "stdout",
          "text": [
            "#######################\n",
            "Column :  pymnt_plan\n"
          ]
        },
        {
          "output_type": "display_data",
          "data": {
            "text/plain": [
              "0    466276\n",
              "1         9\n",
              "Name: pymnt_plan, dtype: int64"
            ]
          },
          "metadata": {}
        },
        {
          "output_type": "stream",
          "name": "stdout",
          "text": [
            "#######################\n",
            "Column :  purpose\n"
          ]
        },
        {
          "output_type": "display_data",
          "data": {
            "text/plain": [
              "2     274195\n",
              "1     104157\n",
              "4      26537\n",
              "9      23690\n",
              "6       9828\n",
              "11      7013\n",
              "0       5397\n",
              "7       4602\n",
              "8       2994\n",
              "12      2487\n",
              "13      2343\n",
              "5       2269\n",
              "3        422\n",
              "10       351\n",
              "Name: purpose, dtype: int64"
            ]
          },
          "metadata": {}
        },
        {
          "output_type": "stream",
          "name": "stdout",
          "text": [
            "#######################\n",
            "Column :  title\n"
          ]
        },
        {
          "output_type": "display_data",
          "data": {
            "text/plain": [
              "16589    164075\n",
              "13085     62275\n",
              "14821     15760\n",
              "25634     14849\n",
              "35775     12713\n",
              "          ...  \n",
              "11355         1\n",
              "52519         1\n",
              "57657         1\n",
              "35474         1\n",
              "38682         1\n",
              "Name: title, Length: 63100, dtype: int64"
            ]
          },
          "metadata": {}
        },
        {
          "output_type": "stream",
          "name": "stdout",
          "text": [
            "#######################\n",
            "Column :  zip_code\n"
          ]
        },
        {
          "output_type": "display_data",
          "data": {
            "text/plain": [
              "945    5304\n",
              "112    5102\n",
              "750    5013\n",
              "606    4696\n",
              "100    4391\n",
              "       ... \n",
              "204       1\n",
              "502       1\n",
              "514       1\n",
              "049       1\n",
              "901       1\n",
              "Name: zip_code, Length: 888, dtype: int64"
            ]
          },
          "metadata": {}
        },
        {
          "output_type": "stream",
          "name": "stdout",
          "text": [
            "#######################\n",
            "Column :  addr_state\n"
          ]
        },
        {
          "output_type": "display_data",
          "data": {
            "text/plain": [
              "4     71450\n",
              "33    40242\n",
              "42    36439\n",
              "9     31637\n",
              "14    18612\n",
              "30    18061\n",
              "37    16424\n",
              "34    15237\n",
              "10    14975\n",
              "44    14222\n",
              "27    12682\n",
              "22    11549\n",
              "19    11072\n",
              "20    10974\n",
              "3     10712\n",
              "46    10517\n",
              "5      9739\n",
              "23     8158\n",
              "24     7508\n",
              "6      7204\n",
              "15     6525\n",
              "32     6519\n",
              "41     5984\n",
              "36     5949\n",
              "47     5911\n",
              "1      5853\n",
              "39     5583\n",
              "18     5489\n",
              "17     4438\n",
              "16     4190\n",
              "35     4117\n",
              "2      3488\n",
              "43     3428\n",
              "31     2588\n",
              "11     2487\n",
              "48     2412\n",
              "29     2232\n",
              "38     2050\n",
              "7      1426\n",
              "26     1396\n",
              "8      1272\n",
              "0      1251\n",
              "25     1226\n",
              "49     1128\n",
              "40      980\n",
              "45      905\n",
              "12       14\n",
              "28       14\n",
              "13       12\n",
              "21        4\n",
              "Name: addr_state, dtype: int64"
            ]
          },
          "metadata": {}
        },
        {
          "output_type": "stream",
          "name": "stdout",
          "text": [
            "#######################\n",
            "Column :  dti\n"
          ]
        },
        {
          "output_type": "display_data",
          "data": {
            "text/plain": [
              "14.40    410\n",
              "19.20    381\n",
              "12.00    369\n",
              "16.80    368\n",
              "18.00    365\n",
              "        ... \n",
              "37.51      2\n",
              "39.94      1\n",
              "38.95      1\n",
              "35.54      1\n",
              "39.14      1\n",
              "Name: dti, Length: 3997, dtype: int64"
            ]
          },
          "metadata": {}
        },
        {
          "output_type": "stream",
          "name": "stdout",
          "text": [
            "#######################\n",
            "Column :  delinq_2yrs\n"
          ]
        },
        {
          "output_type": "display_data",
          "data": {
            "text/plain": [
              "0.0     382983\n",
              "1.0      56224\n",
              "2.0      16310\n",
              "3.0       5684\n",
              "4.0       2378\n",
              "5.0       1236\n",
              "6.0        629\n",
              "7.0        346\n",
              "8.0        177\n",
              "9.0        111\n",
              "10.0        65\n",
              "11.0        41\n",
              "12.0        38\n",
              "13.0        25\n",
              "14.0         8\n",
              "15.0         7\n",
              "18.0         6\n",
              "16.0         5\n",
              "17.0         3\n",
              "19.0         3\n",
              "21.0         2\n",
              "22.0         2\n",
              "29.0         1\n",
              "24.0         1\n",
              "Name: delinq_2yrs, dtype: int64"
            ]
          },
          "metadata": {}
        },
        {
          "output_type": "stream",
          "name": "stdout",
          "text": [
            "#######################\n",
            "Column :  earliest_cr_line\n"
          ]
        },
        {
          "output_type": "display_data",
          "data": {
            "text/plain": [
              "11    45592\n",
              "12    44184\n",
              "2     43486\n",
              "10    42115\n",
              "3     40063\n",
              "6     37266\n",
              "8     36975\n",
              "5     36657\n",
              "9     35877\n",
              "7     35768\n",
              "1     34212\n",
              "4     34061\n",
              "0        29\n",
              "Name: earliest_cr_line, dtype: int64"
            ]
          },
          "metadata": {}
        },
        {
          "output_type": "stream",
          "name": "stdout",
          "text": [
            "#######################\n",
            "Column :  inq_last_6mths\n"
          ]
        },
        {
          "output_type": "display_data",
          "data": {
            "text/plain": [
              "0.0     241527\n",
              "1.0     130148\n",
              "2.0      57825\n",
              "3.0      25126\n",
              "4.0       7241\n",
              "5.0       2768\n",
              "6.0       1188\n",
              "7.0        195\n",
              "8.0        122\n",
              "9.0         50\n",
              "10.0        24\n",
              "11.0        15\n",
              "12.0        15\n",
              "15.0         9\n",
              "13.0         6\n",
              "14.0         6\n",
              "18.0         4\n",
              "16.0         3\n",
              "17.0         2\n",
              "24.0         2\n",
              "19.0         2\n",
              "32.0         1\n",
              "33.0         1\n",
              "31.0         1\n",
              "28.0         1\n",
              "25.0         1\n",
              "27.0         1\n",
              "20.0         1\n",
              "Name: inq_last_6mths, dtype: int64"
            ]
          },
          "metadata": {}
        },
        {
          "output_type": "stream",
          "name": "stdout",
          "text": [
            "#######################\n",
            "Column :  mths_since_last_delinq\n"
          ]
        },
        {
          "output_type": "display_data",
          "data": {
            "text/plain": [
              "0.0      251574\n",
              "9.0        4358\n",
              "8.0        4272\n",
              "13.0       4260\n",
              "12.0       4193\n",
              "          ...  \n",
              "156.0         1\n",
              "118.0         1\n",
              "149.0         1\n",
              "119.0         1\n",
              "121.0         1\n",
              "Name: mths_since_last_delinq, Length: 145, dtype: int64"
            ]
          },
          "metadata": {}
        },
        {
          "output_type": "stream",
          "name": "stdout",
          "text": [
            "#######################\n",
            "Column :  mths_since_last_record\n"
          ]
        },
        {
          "output_type": "display_data",
          "data": {
            "text/plain": [
              "0.0      404925\n",
              "109.0      1098\n",
              "108.0       999\n",
              "106.0       968\n",
              "104.0       953\n",
              "          ...  \n",
              "1.0          28\n",
              "2.0          24\n",
              "120.0         2\n",
              "121.0         2\n",
              "129.0         1\n",
              "Name: mths_since_last_record, Length: 123, dtype: int64"
            ]
          },
          "metadata": {}
        },
        {
          "output_type": "stream",
          "name": "stdout",
          "text": [
            "#######################\n",
            "Column :  open_acc\n"
          ]
        },
        {
          "output_type": "display_data",
          "data": {
            "text/plain": [
              "9.0     44019\n",
              "10.0    42512\n",
              "8.0     41893\n",
              "11.0    39112\n",
              "7.0     37602\n",
              "        ...  \n",
              "55.0        2\n",
              "62.0        1\n",
              "84.0        1\n",
              "75.0        1\n",
              "61.0        1\n",
              "Name: open_acc, Length: 62, dtype: int64"
            ]
          },
          "metadata": {}
        },
        {
          "output_type": "stream",
          "name": "stdout",
          "text": [
            "#######################\n",
            "Column :  pub_rec\n"
          ]
        },
        {
          "output_type": "display_data",
          "data": {
            "text/plain": [
              "0.0     404922\n",
              "1.0      53051\n",
              "2.0       5624\n",
              "3.0       1611\n",
              "4.0        520\n",
              "5.0        276\n",
              "6.0        136\n",
              "7.0         62\n",
              "8.0         29\n",
              "9.0         16\n",
              "10.0        13\n",
              "11.0         8\n",
              "12.0         2\n",
              "18.0         2\n",
              "13.0         2\n",
              "40.0         1\n",
              "34.0         1\n",
              "21.0         1\n",
              "63.0         1\n",
              "54.0         1\n",
              "14.0         1\n",
              "15.0         1\n",
              "16.0         1\n",
              "19.0         1\n",
              "49.0         1\n",
              "17.0         1\n",
              "Name: pub_rec, dtype: int64"
            ]
          },
          "metadata": {}
        },
        {
          "output_type": "stream",
          "name": "stdout",
          "text": [
            "#######################\n",
            "Column :  revol_bal\n"
          ]
        },
        {
          "output_type": "display_data",
          "data": {
            "text/plain": [
              "0         2269\n",
              "6052        40\n",
              "8696        39\n",
              "5896        39\n",
              "4532        39\n",
              "          ... \n",
              "51021        1\n",
              "38032        1\n",
              "45601        1\n",
              "40823        1\n",
              "119663       1\n",
              "Name: revol_bal, Length: 58142, dtype: int64"
            ]
          },
          "metadata": {}
        },
        {
          "output_type": "stream",
          "name": "stdout",
          "text": [
            "#######################\n",
            "Column :  revol_util\n"
          ]
        },
        {
          "output_type": "display_data",
          "data": {
            "text/plain": [
              "0.00      2624\n",
              "58.00      864\n",
              "53.00      850\n",
              "59.00      845\n",
              "61.00      832\n",
              "          ... \n",
              "8.49         1\n",
              "88.48        1\n",
              "7.43         1\n",
              "11.63        1\n",
              "141.80       1\n",
              "Name: revol_util, Length: 1269, dtype: int64"
            ]
          },
          "metadata": {}
        },
        {
          "output_type": "stream",
          "name": "stdout",
          "text": [
            "#######################\n",
            "Column :  total_acc\n"
          ]
        },
        {
          "output_type": "display_data",
          "data": {
            "text/plain": [
              "21.0     17087\n",
              "20.0     17073\n",
              "22.0     17028\n",
              "23.0     16719\n",
              "19.0     16709\n",
              "         ...  \n",
              "106.0        1\n",
              "156.0        1\n",
              "101.0        1\n",
              "96.0         1\n",
              "118.0        1\n",
              "Name: total_acc, Length: 113, dtype: int64"
            ]
          },
          "metadata": {}
        },
        {
          "output_type": "stream",
          "name": "stdout",
          "text": [
            "#######################\n",
            "Column :  initial_list_status\n"
          ]
        },
        {
          "output_type": "display_data",
          "data": {
            "text/plain": [
              "0    303005\n",
              "1    163280\n",
              "Name: initial_list_status, dtype: int64"
            ]
          },
          "metadata": {}
        },
        {
          "output_type": "stream",
          "name": "stdout",
          "text": [
            "#######################\n",
            "Column :  out_prncp\n"
          ]
        },
        {
          "output_type": "display_data",
          "data": {
            "text/plain": [
              "0.00        229999\n",
              "5684.61         80\n",
              "6563.61         79\n",
              "5617.88         78\n",
              "6110.65         76\n",
              "             ...  \n",
              "788.62           1\n",
              "2656.39          1\n",
              "602.44           1\n",
              "18067.18         1\n",
              "3984.38          1\n",
              "Name: out_prncp, Length: 135665, dtype: int64"
            ]
          },
          "metadata": {}
        },
        {
          "output_type": "stream",
          "name": "stdout",
          "text": [
            "#######################\n",
            "Column :  out_prncp_inv\n"
          ]
        },
        {
          "output_type": "display_data",
          "data": {
            "text/plain": [
              "0.00        229999\n",
              "6563.61         78\n",
              "5684.61         77\n",
              "5617.88         76\n",
              "6110.65         75\n",
              "             ...  \n",
              "1273.13          1\n",
              "16869.63         1\n",
              "9541.53          1\n",
              "1273.53          1\n",
              "3974.41          1\n",
              "Name: out_prncp_inv, Length: 141189, dtype: int64"
            ]
          },
          "metadata": {}
        },
        {
          "output_type": "stream",
          "name": "stdout",
          "text": [
            "#######################\n",
            "Column :  total_pymnt\n"
          ]
        },
        {
          "output_type": "display_data",
          "data": {
            "text/plain": [
              "6743.7     121\n",
              "5564.8      94\n",
              "5174.1      93\n",
              "0.0         87\n",
              "6020.8      86\n",
              "          ... \n",
              "30440.0      1\n",
              "25718.8      1\n",
              "16961.0      1\n",
              "28159.5      1\n",
              "8946.1       1\n",
              "Name: total_pymnt, Length: 198509, dtype: int64"
            ]
          },
          "metadata": {}
        },
        {
          "output_type": "stream",
          "name": "stdout",
          "text": [
            "#######################\n",
            "Column :  total_pymnt_inv\n"
          ]
        },
        {
          "output_type": "display_data",
          "data": {
            "text/plain": [
              "0.00        365\n",
              "6743.73     113\n",
              "5564.78      77\n",
              "5419.43      73\n",
              "5497.46      72\n",
              "           ... \n",
              "7158.22       1\n",
              "9651.34       1\n",
              "4140.95       1\n",
              "24206.64      1\n",
              "8799.57       1\n",
              "Name: total_pymnt_inv, Length: 347659, dtype: int64"
            ]
          },
          "metadata": {}
        },
        {
          "output_type": "stream",
          "name": "stdout",
          "text": [
            "#######################\n",
            "Column :  total_rec_prncp\n"
          ]
        },
        {
          "output_type": "display_data",
          "data": {
            "text/plain": [
              "10000.00    13267\n",
              "12000.00    10469\n",
              "15000.00     8552\n",
              "20000.00     7673\n",
              "8000.00      6522\n",
              "            ...  \n",
              "16731.08        1\n",
              "3987.47         1\n",
              "6927.01         1\n",
              "11253.08        1\n",
              "6015.62         1\n",
              "Name: total_rec_prncp, Length: 172713, dtype: int64"
            ]
          },
          "metadata": {}
        },
        {
          "output_type": "stream",
          "name": "stdout",
          "text": [
            "#######################\n",
            "Column :  total_rec_int\n"
          ]
        },
        {
          "output_type": "display_data",
          "data": {
            "text/plain": [
              "0.00       379\n",
              "1249.39     78\n",
              "1329.13     75\n",
              "1037.31     74\n",
              "1350.99     72\n",
              "          ... \n",
              "5322.44      1\n",
              "7909.43      1\n",
              "9697.29      1\n",
              "3723.50      1\n",
              "6072.29      1\n",
              "Name: total_rec_int, Length: 270249, dtype: int64"
            ]
          },
          "metadata": {}
        },
        {
          "output_type": "stream",
          "name": "stdout",
          "text": [
            "#######################\n",
            "Column :  total_rec_late_fee\n"
          ]
        },
        {
          "output_type": "display_data",
          "data": {
            "text/plain": [
              "0.000000     455607\n",
              "15.000000      2223\n",
              "30.000000       285\n",
              "45.000000        50\n",
              "16.840000        15\n",
              "              ...  \n",
              "15.026894         1\n",
              "23.190501         1\n",
              "14.959976         1\n",
              "37.751380         1\n",
              "41.150000         1\n",
              "Name: total_rec_late_fee, Length: 5808, dtype: int64"
            ]
          },
          "metadata": {}
        },
        {
          "output_type": "stream",
          "name": "stdout",
          "text": [
            "#######################\n",
            "Column :  recoveries\n"
          ]
        },
        {
          "output_type": "display_data",
          "data": {
            "text/plain": [
              "0.00       441914\n",
              "14.28           9\n",
              "11.70           9\n",
              "200.00          9\n",
              "10.00           9\n",
              "            ...  \n",
              "423.23          1\n",
              "2311.77         1\n",
              "850.18          1\n",
              "5052.98         1\n",
              "1159.40         1\n",
              "Name: recoveries, Length: 22773, dtype: int64"
            ]
          },
          "metadata": {}
        },
        {
          "output_type": "stream",
          "name": "stdout",
          "text": [
            "#######################\n",
            "Column :  collection_recovery_fee\n"
          ]
        },
        {
          "output_type": "display_data",
          "data": {
            "text/plain": [
              "0.0000      443079\n",
              "2.0000          18\n",
              "1.8000          13\n",
              "1.8800          12\n",
              "1.2000          12\n",
              "             ...  \n",
              "330.4404         1\n",
              "149.1210         1\n",
              "2.9795           1\n",
              "8.8326           1\n",
              "11.5940          1\n",
              "Name: collection_recovery_fee, Length: 20275, dtype: int64"
            ]
          },
          "metadata": {}
        },
        {
          "output_type": "stream",
          "name": "stdout",
          "text": [
            "#######################\n",
            "Column :  last_pymnt_d\n"
          ]
        },
        {
          "output_type": "display_data",
          "data": {
            "text/plain": [
              "5     194421\n",
              "3      74567\n",
              "11     23938\n",
              "6      22182\n",
              "12     20956\n",
              "2      20667\n",
              "10     20239\n",
              "7      19221\n",
              "8      18540\n",
              "9      18076\n",
              "1      17907\n",
              "4      15195\n",
              "0        376\n",
              "Name: last_pymnt_d, dtype: int64"
            ]
          },
          "metadata": {}
        },
        {
          "output_type": "stream",
          "name": "stdout",
          "text": [
            "#######################\n",
            "Column :  last_pymnt_amnt\n"
          ]
        },
        {
          "output_type": "display_data",
          "data": {
            "text/plain": [
              "327.34      860\n",
              "336.90      828\n",
              "332.10      625\n",
              "491.01      579\n",
              "392.81      567\n",
              "           ... \n",
              "2535.08       1\n",
              "6432.03       1\n",
              "6705.61       1\n",
              "14086.04      1\n",
              "1500.68       1\n",
              "Name: last_pymnt_amnt, Length: 198194, dtype: int64"
            ]
          },
          "metadata": {}
        },
        {
          "output_type": "stream",
          "name": "stdout",
          "text": [
            "#######################\n",
            "Column :  next_pymnt_d\n"
          ]
        },
        {
          "output_type": "display_data",
          "data": {
            "text/plain": [
              "0     227214\n",
              "4     208602\n",
              "5      28134\n",
              "3        286\n",
              "8        284\n",
              "11       251\n",
              "1        248\n",
              "9        234\n",
              "10       228\n",
              "2        217\n",
              "12       205\n",
              "7        198\n",
              "6        184\n",
              "Name: next_pymnt_d, dtype: int64"
            ]
          },
          "metadata": {}
        },
        {
          "output_type": "stream",
          "name": "stdout",
          "text": [
            "#######################\n",
            "Column :  last_credit_pull_d\n"
          ]
        },
        {
          "output_type": "display_data",
          "data": {
            "text/plain": [
              "5     335246\n",
              "3      20172\n",
              "10     13950\n",
              "11     13465\n",
              "12     12940\n",
              "6      11877\n",
              "2      11382\n",
              "7       9987\n",
              "8       9557\n",
              "1       9374\n",
              "9       9344\n",
              "4       8949\n",
              "0         42\n",
              "Name: last_credit_pull_d, dtype: int64"
            ]
          },
          "metadata": {}
        },
        {
          "output_type": "stream",
          "name": "stdout",
          "text": [
            "#######################\n",
            "Column :  collections_12_mths_ex_med\n"
          ]
        },
        {
          "output_type": "display_data",
          "data": {
            "text/plain": [
              "0.0     462371\n",
              "1.0       3665\n",
              "2.0        219\n",
              "3.0         19\n",
              "4.0          7\n",
              "6.0          1\n",
              "16.0         1\n",
              "20.0         1\n",
              "5.0          1\n",
              "Name: collections_12_mths_ex_med, dtype: int64"
            ]
          },
          "metadata": {}
        },
        {
          "output_type": "stream",
          "name": "stdout",
          "text": [
            "#######################\n",
            "Column :  mths_since_last_major_derog\n"
          ]
        },
        {
          "output_type": "display_data",
          "data": {
            "text/plain": [
              "0.0      367390\n",
              "45.0       1672\n",
              "46.0       1670\n",
              "42.0       1656\n",
              "48.0       1637\n",
              "          ...  \n",
              "180.0         1\n",
              "188.0         1\n",
              "150.0         1\n",
              "159.0         1\n",
              "145.0         1\n",
              "Name: mths_since_last_major_derog, Length: 162, dtype: int64"
            ]
          },
          "metadata": {}
        },
        {
          "output_type": "stream",
          "name": "stdout",
          "text": [
            "#######################\n",
            "Column :  acc_now_delinq\n"
          ]
        },
        {
          "output_type": "display_data",
          "data": {
            "text/plain": [
              "0.0    464553\n",
              "1.0      1623\n",
              "2.0        92\n",
              "3.0        11\n",
              "4.0         4\n",
              "5.0         2\n",
              "Name: acc_now_delinq, dtype: int64"
            ]
          },
          "metadata": {}
        },
        {
          "output_type": "stream",
          "name": "stdout",
          "text": [
            "#######################\n",
            "Column :  tot_coll_amt\n"
          ]
        },
        {
          "output_type": "display_data",
          "data": {
            "text/plain": [
              "0.0        416535\n",
              "50.0          837\n",
              "100.0         650\n",
              "75.0          515\n",
              "60.0          309\n",
              "            ...  \n",
              "13779.0         1\n",
              "15036.0         1\n",
              "15986.0         1\n",
              "2477.0          1\n",
              "6532.0          1\n",
              "Name: tot_coll_amt, Length: 6321, dtype: int64"
            ]
          },
          "metadata": {}
        },
        {
          "output_type": "stream",
          "name": "stdout",
          "text": [
            "#######################\n",
            "Column :  tot_cur_bal\n"
          ]
        },
        {
          "output_type": "display_data",
          "data": {
            "text/plain": [
              "0.0         70354\n",
              "23254.0        15\n",
              "14186.0        15\n",
              "28674.0        14\n",
              "30491.0        14\n",
              "            ...  \n",
              "179524.0        1\n",
              "217367.0        1\n",
              "111276.0        1\n",
              "260290.0        1\n",
              "57477.0         1\n",
              "Name: tot_cur_bal, Length: 220690, dtype: int64"
            ]
          },
          "metadata": {}
        },
        {
          "output_type": "stream",
          "name": "stdout",
          "text": [
            "#######################\n",
            "Column :  total_rev_hi_lim\n"
          ]
        },
        {
          "output_type": "display_data",
          "data": {
            "text/plain": [
              "0.0         70431\n",
              "15000.0      1392\n",
              "13500.0      1324\n",
              "10000.0      1316\n",
              "12000.0      1301\n",
              "            ...  \n",
              "29117.0         1\n",
              "31243.0         1\n",
              "84434.0         1\n",
              "89535.0         1\n",
              "479500.0        1\n",
              "Name: total_rev_hi_lim, Length: 14612, dtype: int64"
            ]
          },
          "metadata": {}
        },
        {
          "output_type": "stream",
          "name": "stdout",
          "text": [
            "#######################\n"
          ]
        }
      ]
    },
    {
      "cell_type": "code",
      "source": [
        "# Labels \n",
        "# maybe i haven't selected right labels\n",
        "# or maybe data is given in this way\n",
        "df[\"loan_status\"].value_counts()  "
      ],
      "metadata": {
        "id": "XlLEbrmE_EBX",
        "colab": {
          "base_uri": "https://localhost:8080/"
        },
        "outputId": "18480b8a-fca6-4320-88d4-9e07b780e385"
      },
      "execution_count": 43,
      "outputs": [
        {
          "output_type": "execute_result",
          "data": {
            "text/plain": [
              "1    414099\n",
              "0     52186\n",
              "Name: loan_status, dtype: int64"
            ]
          },
          "metadata": {},
          "execution_count": 43
        }
      ]
    },
    {
      "cell_type": "code",
      "source": [
        "print(len(df.loc[df['loan_status'].isin(['1'])]))\n",
        "print(len(df.loc[df['loan_status'].isin(['0'])]))\n",
        "\n",
        "df1 = df.loc[df['loan_status'].isin(['1'])][:52186] # taking labels equally\n",
        "df2 = df.loc[df['loan_status'].isin(['0'])][:52186]\n",
        "df3 = pd.concat([df1,df2], axis=0)                   # merging\n",
        "df3 = df3.sample(frac=1)                              # randomizing data\n",
        "\n",
        "print(df3[\"loan_status\"].value_counts())"
      ],
      "metadata": {
        "id": "f1ICA0f3BvUl",
        "colab": {
          "base_uri": "https://localhost:8080/"
        },
        "outputId": "9712cced-9359-45d0-8700-20455702d701"
      },
      "execution_count": 44,
      "outputs": [
        {
          "output_type": "stream",
          "name": "stdout",
          "text": [
            "414099\n",
            "52186\n",
            "0    52186\n",
            "1    52186\n",
            "Name: loan_status, dtype: int64\n"
          ]
        }
      ]
    },
    {
      "cell_type": "code",
      "source": [
        "# also converted in array\n",
        "import numpy as np\n",
        "labels = df3[\"loan_status\"].values.astype(np.float32)#.reshape(1,2)\n",
        "features = df3.drop(\"loan_status\", 1).values.astype(np.float32)"
      ],
      "metadata": {
        "id": "c86K-FlrPso5",
        "colab": {
          "base_uri": "https://localhost:8080/"
        },
        "outputId": "bc19c0b9-415d-4a58-d6ad-1c8dc367a002"
      },
      "execution_count": 45,
      "outputs": [
        {
          "output_type": "stream",
          "name": "stderr",
          "text": [
            "/usr/local/lib/python3.7/dist-packages/ipykernel_launcher.py:4: FutureWarning: In a future version of pandas all arguments of DataFrame.drop except for the argument 'labels' will be keyword-only\n",
            "  after removing the cwd from sys.path.\n"
          ]
        }
      ]
    },
    {
      "cell_type": "code",
      "source": [
        "#import tensorflow as tf\n",
        "#labels = tf.one_hot(labels, depth=2)"
      ],
      "metadata": {
        "id": "Zpcp5_VgEOFc"
      },
      "execution_count": 46,
      "outputs": []
    },
    {
      "cell_type": "code",
      "source": [
        "print(labels.shape)\n",
        "print(features.shape)"
      ],
      "metadata": {
        "colab": {
          "base_uri": "https://localhost:8080/"
        },
        "id": "LIiP0gstDQKy",
        "outputId": "362297f6-eae6-423d-e29b-e83d5b8db949"
      },
      "execution_count": 47,
      "outputs": [
        {
          "output_type": "stream",
          "name": "stdout",
          "text": [
            "(104372,)\n",
            "(104372, 49)\n"
          ]
        }
      ]
    },
    {
      "cell_type": "code",
      "source": [
        "# split in training 70%, test 30% test \n",
        "from sklearn.model_selection import train_test_split\n",
        "\n",
        "x_train, x_test, y_train, y_test = train_test_split(features, labels, test_size=0.3)#, random_state=1)"
      ],
      "metadata": {
        "id": "GHoyvPhzM69u"
      },
      "execution_count": 48,
      "outputs": []
    },
    {
      "cell_type": "code",
      "source": [
        "Ny_test = y_test"
      ],
      "metadata": {
        "id": "EA0ktwWVI6bY"
      },
      "execution_count": 49,
      "outputs": []
    },
    {
      "cell_type": "code",
      "source": [
        "import tensorflow as tf\n",
        "y_train = tf.one_hot(y_train, depth=2)\n",
        "y_test = tf.one_hot(y_test, depth=2)"
      ],
      "metadata": {
        "id": "YxvsEkjLFg-h"
      },
      "execution_count": 50,
      "outputs": []
    },
    {
      "cell_type": "markdown",
      "source": [
        "Deep Learning"
      ],
      "metadata": {
        "id": "q_hYQ5xpS_jX"
      }
    },
    {
      "cell_type": "code",
      "source": [
        "# Functional API\n",
        "from tensorflow.keras import layers, Model, Input, optimizers\n",
        "\n",
        "Shape = x_train.shape[1:]\n",
        "print(Shape)\n",
        "\n",
        "input_tensor = Input(shape=Shape)\n",
        "x = layers.Dense(1024, activation=\"relu\")(input_tensor)\n",
        "#y = layers.Dropout(0.001)(x)\n",
        "z = layers.Dense(512, activation=\"relu\")(x)#(y)\n",
        "output_tensor = layers.Dense(2, activation='softmax')(z)\n",
        "\n",
        "model = Model(input_tensor,output_tensor)"
      ],
      "metadata": {
        "colab": {
          "base_uri": "https://localhost:8080/"
        },
        "id": "c6isICAJJJ_b",
        "outputId": "bd75e762-4f01-4a8b-ae2b-8fb975dc6d94"
      },
      "execution_count": 51,
      "outputs": [
        {
          "output_type": "stream",
          "name": "stdout",
          "text": [
            "(49,)\n"
          ]
        }
      ]
    },
    {
      "cell_type": "code",
      "source": [
        "#optimizer = #SGD #RMSprop #Adam #Adadelta #Adagrad ##Adamax ###Nadam #Ftrl\n",
        "#loss = #'binary_crossentropy,\"categorical_crossentropy\",'sparse_categorical_crossentropy'\n",
        "\n",
        "opt = optimizers.Adam(lr=0.01)\n",
        "model.compile(optimizer=opt,\n",
        "              loss=\"binary_crossentropy\", \n",
        "              metrics=[\"accuracy\"])\n",
        "\n",
        "model.summary()"
      ],
      "metadata": {
        "colab": {
          "base_uri": "https://localhost:8080/"
        },
        "id": "DaWEXNaLTNZE",
        "outputId": "7701edae-7182-4601-98a7-bb9416bfba4b"
      },
      "execution_count": 52,
      "outputs": [
        {
          "output_type": "stream",
          "name": "stdout",
          "text": [
            "Model: \"model\"\n",
            "_________________________________________________________________\n",
            " Layer (type)                Output Shape              Param #   \n",
            "=================================================================\n",
            " input_1 (InputLayer)        [(None, 49)]              0         \n",
            "                                                                 \n",
            " dense (Dense)               (None, 1024)              51200     \n",
            "                                                                 \n",
            " dense_1 (Dense)             (None, 512)               524800    \n",
            "                                                                 \n",
            " dense_2 (Dense)             (None, 2)                 1026      \n",
            "                                                                 \n",
            "=================================================================\n",
            "Total params: 577,026\n",
            "Trainable params: 577,026\n",
            "Non-trainable params: 0\n",
            "_________________________________________________________________\n"
          ]
        },
        {
          "output_type": "stream",
          "name": "stderr",
          "text": [
            "/usr/local/lib/python3.7/dist-packages/keras/optimizer_v2/adam.py:105: UserWarning: The `lr` argument is deprecated, use `learning_rate` instead.\n",
            "  super(Adam, self).__init__(name, **kwargs)\n"
          ]
        }
      ]
    },
    {
      "cell_type": "code",
      "source": [
        "###########################"
      ],
      "metadata": {
        "id": "jRX8TaQJWBzW"
      },
      "execution_count": 53,
      "outputs": []
    },
    {
      "cell_type": "code",
      "source": [
        "print(x_train.shape)\n",
        "print(y_train.shape)\n",
        "print(type(x_train))\n",
        "print(type(y_train))"
      ],
      "metadata": {
        "colab": {
          "base_uri": "https://localhost:8080/"
        },
        "id": "6Yva9ZsI_Ami",
        "outputId": "471691ed-2459-40d3-be4b-07b246639a8e"
      },
      "execution_count": 54,
      "outputs": [
        {
          "output_type": "stream",
          "name": "stdout",
          "text": [
            "(73060, 49)\n",
            "(73060, 2)\n",
            "<class 'numpy.ndarray'>\n",
            "<class 'tensorflow.python.framework.ops.EagerTensor'>\n"
          ]
        }
      ]
    },
    {
      "cell_type": "code",
      "source": [
        "history = model.fit(x_train, y_train, epochs=2, batch_size=256,validation_split=0.1)"
      ],
      "metadata": {
        "colab": {
          "base_uri": "https://localhost:8080/"
        },
        "id": "WcDvDBmMT0VB",
        "outputId": "26320238-e547-4cb5-c895-fbd58a78a5ba"
      },
      "execution_count": 55,
      "outputs": [
        {
          "output_type": "stream",
          "name": "stdout",
          "text": [
            "Epoch 1/2\n",
            "257/257 [==============================] - 2s 4ms/step - loss: 849.6528 - accuracy: 0.6220 - val_loss: 0.6073 - val_accuracy: 0.6563\n",
            "Epoch 2/2\n",
            "257/257 [==============================] - 1s 4ms/step - loss: 0.8261 - accuracy: 0.5925 - val_loss: 0.6178 - val_accuracy: 0.6170\n"
          ]
        }
      ]
    },
    {
      "cell_type": "code",
      "source": [
        "# evaluation\n",
        "evaluation = model.evaluate(x_test,  y_test, verbose=2)\n",
        "print()\n",
        "print(\"Test loss :\",evaluation[0]*100,\"%\")\n",
        "print(\"Test accuracy :\",evaluation[1]*100,\"%\")"
      ],
      "metadata": {
        "colab": {
          "base_uri": "https://localhost:8080/"
        },
        "id": "5iUBQWDLHstL",
        "outputId": "466eae5f-9815-404c-c4b3-2f9cdea60e44"
      },
      "execution_count": 56,
      "outputs": [
        {
          "output_type": "stream",
          "name": "stdout",
          "text": [
            "979/979 - 2s - loss: 1.3678 - accuracy: 0.6153 - 2s/epoch - 2ms/step\n",
            "\n",
            "Test loss : 136.7849588394165 %\n",
            "Test accuracy : 61.52593493461609 %\n"
          ]
        }
      ]
    },
    {
      "cell_type": "code",
      "source": [
        "print(x_test.shape)\n",
        "#x_test[6]\n",
        "#model.predict(x_test[6])"
      ],
      "metadata": {
        "colab": {
          "base_uri": "https://localhost:8080/"
        },
        "id": "SQ7ttEDRGoGo",
        "outputId": "370e892f-a741-487c-ba58-119a95cf1aff"
      },
      "execution_count": 57,
      "outputs": [
        {
          "output_type": "stream",
          "name": "stdout",
          "text": [
            "(31312, 49)\n"
          ]
        }
      ]
    },
    {
      "cell_type": "code",
      "source": [
        "# prediction\n",
        "import numpy as np\n",
        "print(np.argmax(model.predict(x_test[6].reshape(1,49))))\n",
        "print(int(Ny_test[6]))\n",
        "#print(y_test[6].idxmax(axis=1)) # reversing ohe"
      ],
      "metadata": {
        "id": "enOFbh08KRIy",
        "colab": {
          "base_uri": "https://localhost:8080/"
        },
        "outputId": "2e2db622-aa9b-4684-b6bf-b65d065e1e48"
      },
      "execution_count": 58,
      "outputs": [
        {
          "output_type": "stream",
          "name": "stdout",
          "text": [
            "0\n",
            "0\n"
          ]
        }
      ]
    },
    {
      "cell_type": "code",
      "source": [
        "# predicting 10 random rows\n",
        "import random\n",
        "import numpy as np\n",
        "\n",
        "Range = len(x_test)\n",
        "for i in random.sample(range(0, Range), 10):\n",
        "  print(\"Predicted Label :\",np.argmax(model.predict(x_test[i].reshape(1,49))))\n",
        "  print(\"Actual Label :\",int(Ny_test[i]))\n",
        "  print(\"################\")"
      ],
      "metadata": {
        "colab": {
          "base_uri": "https://localhost:8080/"
        },
        "id": "ruP0y4Z4939U",
        "outputId": "1cb3409c-af70-4098-b94f-21c2ebb228d7"
      },
      "execution_count": 59,
      "outputs": [
        {
          "output_type": "stream",
          "name": "stdout",
          "text": [
            "Predicted Label : 0\n",
            "Actual Label : 0\n",
            "################\n",
            "Predicted Label : 0\n",
            "Actual Label : 1\n",
            "################\n",
            "Predicted Label : 0\n",
            "Actual Label : 0\n",
            "################\n",
            "Predicted Label : 0\n",
            "Actual Label : 0\n",
            "################\n",
            "Predicted Label : 0\n",
            "Actual Label : 0\n",
            "################\n",
            "Predicted Label : 0\n",
            "Actual Label : 0\n",
            "################\n",
            "Predicted Label : 0\n",
            "Actual Label : 0\n",
            "################\n",
            "Predicted Label : 0\n",
            "Actual Label : 1\n",
            "################\n",
            "Predicted Label : 0\n",
            "Actual Label : 1\n",
            "################\n",
            "Predicted Label : 0\n",
            "Actual Label : 0\n",
            "################\n"
          ]
        }
      ]
    },
    {
      "cell_type": "markdown",
      "source": [
        "Hyperperameter Tunning"
      ],
      "metadata": {
        "id": "hWqsOXTpJ_L4"
      }
    },
    {
      "cell_type": "code",
      "source": [
        "def fun(epochs,batch_size,lr,opt):\n",
        "  from tensorflow.keras import layers, Model, Input, optimizers\n",
        "\n",
        "  Shape = x_train.shape[1:]\n",
        "  #print(Shape)\n",
        "\n",
        "  input_tensor = Input(shape=Shape)\n",
        "  x = layers.Dense(1024, activation=\"relu\")(input_tensor)\n",
        "  #y = layers.Dropout(0.001)(x)\n",
        "  z = layers.Dense(512, activation=\"relu\")(x)#(y)\n",
        "  output_tensor = layers.Dense(2, activation='softmax')(z)\n",
        "\n",
        "  model = Model(input_tensor,output_tensor)\n",
        "\n",
        "  #optimizer = #SGD #RMSprop #Adam #Adadelta #Adagrad ##Adamax ###Nadam #Ftrl\n",
        "  #loss = #'binary_crossentropy,\"categorical_crossentropy\",'sparse_categorical_crossentropy'\n",
        "\n",
        "  opt = opt\n",
        "  model.compile(optimizer=opt,\n",
        "                loss=\"binary_crossentropy\", \n",
        "                metrics=[\"accuracy\"])\n",
        "\n",
        "  #model.summary()\n",
        "  history = model.fit(x_train, y_train, epochs=epochs,\n",
        "                      batch_size=batch_size, validation_split=0.1)\n",
        "\n",
        "  # evaluation\n",
        "  evaluation = model.evaluate(x_test,  y_test, verbose=2)\n",
        "  print()\n",
        "  print(\"Test loss :\",evaluation[0]*100,\"%\")\n",
        "  print(\"Test accuracy :\",evaluation[1]*100,\"%\")\n",
        "  print()\n",
        "  # prediction\n",
        "  #import numpy as np\n",
        "  #print(np.argmax(model.predict(x_test[6].reshape(1,49))))\n",
        "  #print(int(Ny_test[6]))\n",
        "  #print(y_test[6].idxmax(axis=1)) # reversing ohe\n",
        "  ##########\n",
        "  # predicting 10 random rows\n",
        "  import random\n",
        "  import numpy as np\n",
        "\n",
        "  Range = len(x_test)\n",
        "  for i in random.sample(range(0, Range), 10):\n",
        "    print(\"Predicted Label :\",np.argmax(model.predict(x_test[i].reshape(1,49))))\n",
        "    print(\"Actual Label :\",int(Ny_test[i]))\n",
        "    print(\"################\")"
      ],
      "metadata": {
        "id": "obmOFpHgMxaM"
      },
      "execution_count": 60,
      "outputs": []
    },
    {
      "cell_type": "code",
      "source": [
        "epochs = 6\n",
        "batch_size = 256\n",
        "lr = 0.01\n",
        "opt = optimizers.Adam(lr=lr)\n",
        "#optimizer = #SGD #RMSprop #Adam #Adadelta #Adagrad ##Adamax ###Nadam #Ftrl\n",
        "\n",
        "fun(epochs,batch_size,lr,opt)"
      ],
      "metadata": {
        "colab": {
          "base_uri": "https://localhost:8080/"
        },
        "id": "aMkA6n3mHpGr",
        "outputId": "13146a27-16b8-4b84-bd12-44f712c4b259"
      },
      "execution_count": 61,
      "outputs": [
        {
          "output_type": "stream",
          "name": "stdout",
          "text": [
            "Epoch 1/6\n",
            "257/257 [==============================] - 1s 4ms/step - loss: 773.0560 - accuracy: 0.6938 - val_loss: 0.4845 - val_accuracy: 0.7855\n",
            "Epoch 2/6\n",
            "257/257 [==============================] - 1s 4ms/step - loss: 0.4476 - accuracy: 0.8118 - val_loss: 0.4023 - val_accuracy: 0.8311\n",
            "Epoch 3/6\n",
            "257/257 [==============================] - 1s 4ms/step - loss: 0.4096 - accuracy: 0.8361 - val_loss: 0.4476 - val_accuracy: 0.8362\n",
            "Epoch 4/6\n",
            "257/257 [==============================] - 1s 4ms/step - loss: 0.3919 - accuracy: 0.8378 - val_loss: 0.3917 - val_accuracy: 0.8318\n",
            "Epoch 5/6\n",
            "257/257 [==============================] - 1s 4ms/step - loss: 0.3871 - accuracy: 0.8369 - val_loss: 0.3887 - val_accuracy: 0.8326\n",
            "Epoch 6/6\n",
            "257/257 [==============================] - 1s 4ms/step - loss: 0.3821 - accuracy: 0.8389 - val_loss: 0.3841 - val_accuracy: 0.8349\n",
            "979/979 - 2s - loss: 0.8727 - accuracy: 0.8405 - 2s/epoch - 2ms/step\n",
            "\n",
            "Test loss : 87.27043867111206 %\n",
            "Test accuracy : 84.04765129089355 %\n",
            "\n",
            "Predicted Label : 0\n",
            "Actual Label : 0\n",
            "################\n",
            "Predicted Label : 0\n",
            "Actual Label : 0\n",
            "################\n",
            "Predicted Label : 1\n",
            "Actual Label : 1\n",
            "################\n",
            "Predicted Label : 1\n",
            "Actual Label : 1\n",
            "################\n",
            "Predicted Label : 1\n",
            "Actual Label : 1\n",
            "################\n",
            "Predicted Label : 1\n",
            "Actual Label : 1\n",
            "################\n",
            "Predicted Label : 0\n",
            "Actual Label : 1\n",
            "################\n",
            "Predicted Label : 1\n",
            "Actual Label : 1\n",
            "################\n",
            "Predicted Label : 1\n",
            "Actual Label : 1\n",
            "################\n",
            "Predicted Label : 0\n",
            "Actual Label : 1\n",
            "################\n"
          ]
        }
      ]
    },
    {
      "cell_type": "code",
      "source": [
        "########## done ##############"
      ],
      "metadata": {
        "id": "4z-nwXi_NyyU"
      },
      "execution_count": 62,
      "outputs": []
    },
    {
      "cell_type": "code",
      "source": [
        "epochs = 10\n",
        "batch_size = 256\n",
        "lr = 0.01\n",
        "opt = optimizers.SGD(lr=lr)\n",
        "#optimizer = #SGD #RMSprop #Adam #Adadelta #Adagrad ##Adamax ###Nadam #Ftrl\n",
        "\n",
        "#fun(epochs,batch_size,lr,opt)"
      ],
      "metadata": {
        "colab": {
          "base_uri": "https://localhost:8080/"
        },
        "id": "gjnrdjL4N4q7",
        "outputId": "c629e27d-a6e7-4f8d-cd96-4972df6cd96f"
      },
      "execution_count": 63,
      "outputs": [
        {
          "output_type": "stream",
          "name": "stderr",
          "text": [
            "/usr/local/lib/python3.7/dist-packages/keras/optimizer_v2/gradient_descent.py:102: UserWarning: The `lr` argument is deprecated, use `learning_rate` instead.\n",
            "  super(SGD, self).__init__(name, **kwargs)\n"
          ]
        }
      ]
    },
    {
      "cell_type": "code",
      "source": [
        "epochs = 10\n",
        "batch_size = 256\n",
        "lr = 0.01\n",
        "opt = optimizers.RMSprop(lr=lr)\n",
        "#optimizer = #SGD #RMSprop #Adam #Adadelta #Adagrad ##Adamax ###Nadam #Ftrl\n",
        "\n",
        "#fun(epochs,batch_size,lr,opt)"
      ],
      "metadata": {
        "colab": {
          "base_uri": "https://localhost:8080/"
        },
        "id": "4AvFx8CtN4tv",
        "outputId": "e62d051d-2c9c-46ef-a34e-986a7c1ef72c"
      },
      "execution_count": 64,
      "outputs": [
        {
          "output_type": "stream",
          "name": "stderr",
          "text": [
            "/usr/local/lib/python3.7/dist-packages/keras/optimizer_v2/rmsprop.py:130: UserWarning: The `lr` argument is deprecated, use `learning_rate` instead.\n",
            "  super(RMSprop, self).__init__(name, **kwargs)\n"
          ]
        }
      ]
    },
    {
      "cell_type": "code",
      "source": [
        "epochs = 10\n",
        "batch_size = 256\n",
        "lr = 0.01\n",
        "opt = optimizers.Adadelta(lr=lr)\n",
        "#optimizer = #SGD #RMSprop #Adam #Adadelta #Adagrad ##Adamax ###Nadam #Ftrl\n",
        "\n",
        "#fun(epochs,batch_size,lr,opt)"
      ],
      "metadata": {
        "colab": {
          "base_uri": "https://localhost:8080/"
        },
        "id": "y4GQLpA1N43a",
        "outputId": "ec3b531e-1909-489e-9bc9-8f283986867e"
      },
      "execution_count": 65,
      "outputs": [
        {
          "output_type": "stream",
          "name": "stderr",
          "text": [
            "/usr/local/lib/python3.7/dist-packages/keras/optimizer_v2/adadelta.py:74: UserWarning: The `lr` argument is deprecated, use `learning_rate` instead.\n",
            "  super(Adadelta, self).__init__(name, **kwargs)\n"
          ]
        }
      ]
    },
    {
      "cell_type": "code",
      "source": [
        "epochs = 10\n",
        "batch_size = 256\n",
        "lr = 0.01\n",
        "opt = optimizers.Adagrad(lr=lr)\n",
        "#optimizer = #SGD #RMSprop #Adam #Adadelta #Adagrad ##Adamax ###Nadam #Ftrl\n",
        "\n",
        "#fun(epochs,batch_size,lr,opt)"
      ],
      "metadata": {
        "colab": {
          "base_uri": "https://localhost:8080/"
        },
        "id": "uj3yEMNNNy06",
        "outputId": "fad4d100-804a-4dcb-a0f8-3e704b0dc0f6"
      },
      "execution_count": 66,
      "outputs": [
        {
          "output_type": "stream",
          "name": "stderr",
          "text": [
            "/usr/local/lib/python3.7/dist-packages/keras/optimizer_v2/adagrad.py:74: UserWarning: The `lr` argument is deprecated, use `learning_rate` instead.\n",
            "  super(Adagrad, self).__init__(name, **kwargs)\n"
          ]
        }
      ]
    },
    {
      "cell_type": "code",
      "source": [
        "epochs = 10\n",
        "batch_size = 256\n",
        "lr = 0.01\n",
        "opt = optimizers.Adamax(lr=lr)\n",
        "#optimizer = #SGD #RMSprop #Adam #Adadelta #Adagrad ##Adamax ###Nadam #Ftrl\n",
        "\n",
        "#fun(epochs,batch_size,lr,opt)"
      ],
      "metadata": {
        "colab": {
          "base_uri": "https://localhost:8080/"
        },
        "id": "w3gAEiWuLCOE",
        "outputId": "37676eb2-b1f3-47d4-f1fa-ad8e8c8b643a"
      },
      "execution_count": 67,
      "outputs": [
        {
          "output_type": "stream",
          "name": "stderr",
          "text": [
            "/usr/local/lib/python3.7/dist-packages/keras/optimizer_v2/adamax.py:90: UserWarning: The `lr` argument is deprecated, use `learning_rate` instead.\n",
            "  super(Adamax, self).__init__(name, **kwargs)\n"
          ]
        }
      ]
    },
    {
      "cell_type": "code",
      "source": [
        "epochs = 10\n",
        "batch_size = 256\n",
        "lr = 0.01\n",
        "opt = optimizers.Ftrl(lr=lr)\n",
        "#optimizer = #SGD #RMSprop #Adam #Adadelta #Adagrad ##Adamax ###Nadam #Ftrl\n",
        "\n",
        "#fun(epochs,batch_size,lr,opt)"
      ],
      "metadata": {
        "id": "g5ayJHnw3wHr",
        "colab": {
          "base_uri": "https://localhost:8080/"
        },
        "outputId": "df3a674e-2554-48e2-9d5c-2a0512eadd50"
      },
      "execution_count": 68,
      "outputs": [
        {
          "output_type": "stream",
          "name": "stderr",
          "text": [
            "/usr/local/lib/python3.7/dist-packages/keras/optimizer_v2/ftrl.py:110: UserWarning: The `lr` argument is deprecated, use `learning_rate` instead.\n",
            "  super(Ftrl, self).__init__(name, **kwargs)\n"
          ]
        }
      ]
    },
    {
      "cell_type": "code",
      "source": [
        "epochs = 10\n",
        "batch_size = 256\n",
        "lr = 0.01\n",
        "opt = optimizers.Nadam(lr=lr)\n",
        "#optimizer = #SGD #RMSprop #Adam #Adadelta #Adagrad ##Adamax ###Nadam #Ftrl\n",
        "\n",
        "fun(epochs,batch_size,lr,opt)"
      ],
      "metadata": {
        "colab": {
          "base_uri": "https://localhost:8080/"
        },
        "id": "FWpgU4bTM8M0",
        "outputId": "05fa6ec5-926c-4fcf-aef1-e355d081072e"
      },
      "execution_count": 69,
      "outputs": [
        {
          "output_type": "stream",
          "name": "stdout",
          "text": [
            "Epoch 1/10\n"
          ]
        },
        {
          "output_type": "stream",
          "name": "stderr",
          "text": [
            "/usr/local/lib/python3.7/dist-packages/keras/optimizer_v2/nadam.py:73: UserWarning: The `lr` argument is deprecated, use `learning_rate` instead.\n",
            "  super(Nadam, self).__init__(name, **kwargs)\n"
          ]
        },
        {
          "output_type": "stream",
          "name": "stdout",
          "text": [
            "257/257 [==============================] - 2s 5ms/step - loss: 772.0894 - accuracy: 0.8526 - val_loss: 1.3419 - val_accuracy: 0.8998\n",
            "Epoch 2/10\n",
            "257/257 [==============================] - 1s 5ms/step - loss: 1.3700 - accuracy: 0.9053 - val_loss: 0.4052 - val_accuracy: 0.9135\n",
            "Epoch 3/10\n",
            "257/257 [==============================] - 1s 5ms/step - loss: 0.3856 - accuracy: 0.9186 - val_loss: 0.3550 - val_accuracy: 0.9120\n",
            "Epoch 4/10\n",
            "257/257 [==============================] - 1s 4ms/step - loss: 0.2275 - accuracy: 0.9284 - val_loss: 0.2058 - val_accuracy: 0.9236\n",
            "Epoch 5/10\n",
            "257/257 [==============================] - 1s 5ms/step - loss: 0.2791 - accuracy: 0.9204 - val_loss: 0.2333 - val_accuracy: 0.9077\n",
            "Epoch 6/10\n",
            "257/257 [==============================] - 1s 4ms/step - loss: 0.1973 - accuracy: 0.9239 - val_loss: 0.1675 - val_accuracy: 0.9266\n",
            "Epoch 7/10\n",
            "257/257 [==============================] - 1s 4ms/step - loss: 0.1605 - accuracy: 0.9344 - val_loss: 0.1553 - val_accuracy: 0.9320\n",
            "Epoch 8/10\n",
            "257/257 [==============================] - 1s 4ms/step - loss: 0.1467 - accuracy: 0.9386 - val_loss: 0.1489 - val_accuracy: 0.9383\n",
            "Epoch 9/10\n",
            "257/257 [==============================] - 1s 4ms/step - loss: 0.1404 - accuracy: 0.9417 - val_loss: 0.1473 - val_accuracy: 0.9425\n",
            "Epoch 10/10\n",
            "257/257 [==============================] - 1s 4ms/step - loss: 0.1407 - accuracy: 0.9433 - val_loss: 0.1546 - val_accuracy: 0.9325\n",
            "979/979 - 2s - loss: 0.1915 - accuracy: 0.9360 - 2s/epoch - 2ms/step\n",
            "\n",
            "Test loss : 19.15292590856552 %\n",
            "Test accuracy : 93.59989762306213 %\n",
            "\n",
            "Predicted Label : 1\n",
            "Actual Label : 1\n",
            "################\n",
            "Predicted Label : 1\n",
            "Actual Label : 1\n",
            "################\n",
            "Predicted Label : 1\n",
            "Actual Label : 1\n",
            "################\n",
            "Predicted Label : 1\n",
            "Actual Label : 1\n",
            "################\n",
            "Predicted Label : 1\n",
            "Actual Label : 1\n",
            "################\n",
            "Predicted Label : 1\n",
            "Actual Label : 1\n",
            "################\n",
            "Predicted Label : 0\n",
            "Actual Label : 0\n",
            "################\n",
            "Predicted Label : 0\n",
            "Actual Label : 0\n",
            "################\n",
            "Predicted Label : 1\n",
            "Actual Label : 1\n",
            "################\n",
            "Predicted Label : 0\n",
            "Actual Label : 0\n",
            "################\n"
          ]
        }
      ]
    },
    {
      "cell_type": "code",
      "source": [
        "#############################"
      ],
      "metadata": {
        "id": "hw4Ttd2MU8bG"
      },
      "execution_count": 70,
      "outputs": []
    },
    {
      "cell_type": "code",
      "source": [],
      "metadata": {
        "id": "2E0rpRoN7z8C"
      },
      "execution_count": 70,
      "outputs": []
    }
  ]
}